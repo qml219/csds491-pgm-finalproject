{
 "cells": [
  {
   "cell_type": "code",
   "execution_count": 5,
   "metadata": {},
   "outputs": [],
   "source": [
    "import numpy as np\n",
    "from scipy.stats import multivariate_normal\n",
    "import pandas as pd\n",
    "import matplotlib.pyplot as plt"
   ]
  },
  {
   "cell_type": "code",
   "execution_count": 6,
   "metadata": {},
   "outputs": [],
   "source": [
    "\n",
    "from sklearn.cluster import KMeans\n",
    "from scipy.linalg import cholesky, LinAlgError\n",
    "from sklearn.mixture import GaussianMixture"
   ]
  },
  {
   "cell_type": "code",
   "execution_count": 7,
   "metadata": {},
   "outputs": [],
   "source": [
    "def compute_initial_parameters(data, initial_clusters):\n",
    "    \"\"\"\n",
    "    Compute the initial parameters of a Gaussian Mixture Model.\n",
    "\n",
    "    Args:\n",
    "    data (np.ndarray): The dataset from which the clusters were derived.\n",
    "    initial_clusters (np.ndarray): The initial clusters used to initialize the Gaussian Mixture Model.\n",
    "\n",
    "    Returns:\n",
    "    mean (list): A list of means for each cluster.\n",
    "    covariance (list): A list of covariance matrices for each cluster.\n",
    "    class_probabilities (np.ndarray): A 1D numpy array where each entry stores the initial mixing coefficient for each cluster.\n",
    "\n",
    "    \"\"\"\n",
    "\n",
    "    N = data.shape[0]\n",
    "    K = initial_clusters.shape[0]\n",
    "\n",
    "    min_dist = np.array([np.inf] * N)\n",
    "    assignment = np.array([-2] * N)\n",
    "\n",
    "    for i in range(K):\n",
    "        distance = np.sum(np.square(data - initial_clusters[i, :]), axis=1)\n",
    "        assigned_new = np.where(distance < min_dist)\n",
    "        min_dist[assigned_new] = distance[assigned_new]\n",
    "        assignment[assigned_new] = i\n",
    "\n",
    "    clusters = []\n",
    "    for i in range(K):\n",
    "        clusters.append(data[np.where(assignment == i)])\n",
    "\n",
    "    # Initial mean, covariance, and class probabilities\n",
    "    covariance = []\n",
    "    for cluster in clusters:\n",
    "        if cluster.shape[0] > 1:  # More than one data point in the cluster\n",
    "            cov = np.cov(cluster, rowvar=False)\n",
    "        else:  # Single data point in a cluster or no points\n",
    "            cov = np.eye(data.shape[1]) * 1e-6  # Small identity matrix\n",
    "        covariance.append(cov)\n",
    "    # variances = [np.var(clusters[i], axis=0, ddof=1) for i in range(K)]\n",
    "    # covariance = [np.diag(variances[i]) for i in range(K)]\n",
    "    mean = initial_clusters\n",
    "    class_probabilities = np.array([len(clusters[i])/N for i in range(K)])\n",
    "\n",
    "    return mean, covariance, class_probabilities\n"
   ]
  },
  {
   "cell_type": "code",
   "execution_count": 8,
   "metadata": {},
   "outputs": [],
   "source": [
    "import numpy as np\n",
    "\n",
    "def check_psd_covar(covariance: list) -> list:\n",
    "    \"\"\"\n",
    "    Ensure all covariance matrices in the list are positive semi-definite.\n",
    "    If a matrix is not positive semi-definite, it is adjusted by adding a small value to its diagonal.\n",
    "\n",
    "    Args:\n",
    "        covariance (list): A list of np.ndarray, where each ndarray is a covariance matrix.\n",
    "\n",
    "    Returns:\n",
    "        list: A list of adjusted covariance matrices, all of which are positive semi-definite.\n",
    "    \"\"\"\n",
    "    for i, cov in enumerate(covariance):\n",
    "        # Check if the covariance matrix is positive semi-definite\n",
    "        # if not np.all(np.linalg.eigvals(cov) >= 0):  \n",
    "        #     # Find the minimum eigenvalue and adjust it if it's negative or zero\n",
    "        #     min_eigenvalue = np.min(np.linalg.eigvals(cov))\n",
    "        #     adjustment = 0 if min_eigenvalue > 0 else -min_eigenvalue + 1e-6\n",
    "        #     adjusted_cov = cov + adjustment * np.eye(cov.shape[0])\n",
    "        #     covariance[i] = adjusted_cov\n",
    "        covariance[i] += np.eye(cov.shape[0]) * 1e-6  # Small identity matrix\n",
    "    return covariance\n"
   ]
  },
  {
   "cell_type": "code",
   "execution_count": 9,
   "metadata": {},
   "outputs": [],
   "source": [
    "from scipy.stats import multivariate_normal\n",
    "# z latent variable - each row i stores the distribution of the training instance x_i, each entry stores p(x_i | z_k) for k = 1:K)\n",
    "# Dimension: N x K\n",
    "def compute_likelihood_matrix(data, mean, covariance, K: int):\n",
    "    \"\"\"\n",
    "    Compute the likelihood matrix for a Gaussian Mixture Model.\n",
    "\n",
    "    Args:\n",
    "    data (np.ndarray): The dataset from which the clusters were derived.\n",
    "    clusters (list): A list of clusters, where each cluster contains the indices of data points in that cluster.\n",
    "    mean (list): A list of means for each cluster.\n",
    "    covariance (list): A list of covariance matrices for each cluster.\n",
    "    K: number of clusters\n",
    "\n",
    "    Returns:\n",
    "    likelihood_matrix (np.ndarray): A 2D numpy array where each row i stores the distribution of the training instance x_i, each entry stores p(x_i | z_k) for k = 1:K.\n",
    "    \"\"\"\n",
    "\n",
    "    likelihood_matrix = np.array([[multivariate_normal.pdf(x, mean[i], covariance[i], allow_singular=False) for i in range(K)] for x in data])\n",
    "\n",
    "    return likelihood_matrix"
   ]
  },
  {
   "cell_type": "code",
   "execution_count": 10,
   "metadata": {},
   "outputs": [],
   "source": [
    "def compute_log_likelihood(likelihood_matrix: np.ndarray, class_probabilities: np.ndarray) -> float:\n",
    "    \"\"\"\n",
    "    Compute the log likelihood of the data given the latent variables.\n",
    "\n",
    "    Args:\n",
    "    likelihood_matrix (np.ndarray): A 2D numpy array where each row represents the likelihood of a data point belonging to a particular cluster.\n",
    "    class_probabilities (np.ndarray): A 1D numpy array where each entry stores the mixing coefficient for each cluster.\n",
    "   \n",
    "    Returns:\n",
    "    float: The log likelihood of the data given the latent variables.\n",
    "    \"\"\"\n",
    "    return np.sum(np.log(likelihood_matrix @ class_probabilities))"
   ]
  },
  {
   "cell_type": "code",
   "execution_count": 11,
   "metadata": {},
   "outputs": [],
   "source": [
    "def E_step(likelihood_matrix: np.ndarray, class_probabilities: np.ndarray) -> np.ndarray:\n",
    "    \"\"\"\n",
    "    Estimate the responsibility matrix that expresses how much a Gaussian accounts for each instance.\n",
    "\n",
    "    Args:\n",
    "        likelihood_matrix (np.ndarray): likelihood matrix N x K, where N is the number of instances and K is the number of Gaussians.\n",
    "        class_probabilities (np.ndarray): mixing coefficient K x 1, where K is the number of Gaussians.\n",
    "\n",
    "    Returns:\n",
    "        responsibility_matrix (np.ndarray): responsibility matrix N x K, where N is the number of instances and K is the number of Gaussians.\n",
    "\n",
    "    The responsibility matrix is a matrix that expresses the degree to which each Gaussian is responsible for generating each instance. It is computed as the product of the likelihood matrix and the class probabilities, divided by the normalization factor.\n",
    "    \"\"\"\n",
    "    weighted_likelihood = likelihood_matrix * class_probabilities.reshape(1, -1)  # element-wise multiplication\n",
    "    normalization = np.sum(weighted_likelihood, axis=1, keepdims=True)  # sum along the instances axis\n",
    "    responsibility_matrix = likelihood_matrix * class_probabilities.reshape(1, -1) / normalization  # element-wise division\n",
    "    return responsibility_matrix\n"
   ]
  },
  {
   "cell_type": "code",
   "execution_count": 12,
   "metadata": {},
   "outputs": [],
   "source": [
    "def M_step(data: np.ndarray, responsibility_matrix: np.ndarray):\n",
    "    \"\"\"\n",
    "    Compute the new parameters of the Gaussian Mixture Model based on the responsibility matrix.\n",
    "\n",
    "    Args:\n",
    "    data (np.ndarray): The dataset from which the clusters were derived.\n",
    "    responsibility_matrix (np.ndarray): A 2D numpy array where each row i stores the distribution of the training instance x_i, each entry stores p(x_i | z_k) for k = 1:K.\n",
    "\n",
    "    Returns:\n",
    "    mean_new (list): A list of new means for each cluster.\n",
    "    covariance_new (list): A list of new covariance matrices for each cluster.\n",
    "    class_probabilities_new (np.ndarray): A 1D numpy array where each entry stores the new mixing coefficient for each cluster.\n",
    "\n",
    "    \"\"\"\n",
    "    N_k = np.sum(responsibility_matrix, axis=0)\n",
    "    N = np.sum(N_k)\n",
    "\n",
    "    K = responsibility_matrix.shape[1]\n",
    "    mean_new, covariance_new = [], []\n",
    "\n",
    "    for i in range(K):\n",
    "        mean_new.append(responsibility_matrix[:, i] @ data / N_k[i])\n",
    "\n",
    "    for i in range(K):\n",
    "        cov = (((data - mean_new[i]).T * responsibility_matrix[:, i]) @ (data - mean_new[i])) / N_k[i]\n",
    "        covariance_new.append(cov)\n",
    "\n",
    "    class_probabilities_new = N_k / N\n",
    "\n",
    "    return mean_new, covariance_new, class_probabilities_new"
   ]
  },
  {
   "cell_type": "code",
   "execution_count": 13,
   "metadata": {},
   "outputs": [],
   "source": [
    "\n",
    "def run_GMM_EM(data: np.ndarray, K: int, convergence_threshold=1e-6, random_seed=12345, take_snapshots=True):\n",
    "    \"\"\"\n",
    "    Runs the Expectation-Maximization (EM) algorithm for a Gaussian Mixture Model (GMM).\n",
    "\n",
    "    Args:\n",
    "        data (np.ndarray): The dataset from which the clusters were derived.\n",
    "        K (int): The number of clusters in the Gaussian Mixture Model.\n",
    "        convergence_threshold (float): The threshold for convergence. \n",
    "        random_seed (int): The seed for the random number generator used to initialize the clusters.\n",
    "\n",
    "    Returns:\n",
    "        cur_log_likelihood (float): The log likelihood of the data given the latent variables at the end of the algorithm.\n",
    "        cur_mean (np.ndarray): A 2D numpy array where each row i stores the mean of the i-th cluster.\n",
    "        cur_covar (np.ndarray): A 2D numpy array where each row i stores the covariance matrix of the i-th cluster.\n",
    "        cur_class_probabilities (np.ndarray): A 1D numpy array where each entry stores the mixing coefficient for the i-th cluster.\n",
    "\n",
    "    The function first initializes the means, covariance matrices, and class probabilities of the Gaussian Mixture Model. \n",
    "    Then, it iteratively performs the E-step and the M-step until the difference in log likelihood between two consecutive iterations is less than the convergence threshold.\n",
    "    \"\"\"\n",
    "\n",
    "    kmeans = KMeans(n_clusters=K, random_state=random_seed, init='k-means++')\n",
    "\n",
    "    kmeans.fit(data)\n",
    "\n",
    "    initial_means = kmeans.cluster_centers_\n",
    "\n",
    "    mean, covariance, class_probabilities = compute_initial_parameters(data, initial_means)\n",
    "\n",
    "    covariance = check_psd_covar(covariance)\n",
    "\n",
    "    dif_log_likelihood = np.inf\n",
    "\n",
    "    cur_mean, cur_covar, cur_class_probabilities = mean, covariance, class_probabilities\n",
    "\n",
    "    cur_log_likelihood = compute_log_likelihood(compute_likelihood_matrix(data, mean, covariance, K), class_probabilities)\n",
    "\n",
    "    snapshots = []\n",
    "\n",
    "    iterations = 0\n",
    "\n",
    "    while (dif_log_likelihood > convergence_threshold):\n",
    "\n",
    "        # Old log likelihood\n",
    "        old_log_likelihood = cur_log_likelihood\n",
    "\n",
    "        # E-step\n",
    "        estimated_responsibility_matrix = E_step(compute_likelihood_matrix(data, cur_mean, cur_covar, K), cur_class_probabilities)\n",
    "\n",
    "        # M-step\n",
    "        cur_mean, cur_covar, cur_class_probabilities = M_step(data, estimated_responsibility_matrix)\n",
    "\n",
    "        cur_covar = check_psd_covar(cur_covar)\n",
    "\n",
    "        # Compute difference in log likelihood\n",
    "        new_log_likelihood = compute_log_likelihood(compute_likelihood_matrix(data, cur_mean, cur_covar, K), cur_class_probabilities)\n",
    "\n",
    "        cur_log_likelihood = new_log_likelihood\n",
    "\n",
    "        dif_log_likelihood = cur_log_likelihood - old_log_likelihood\n",
    "\n",
    "        snapshots.append(cur_log_likelihood)\n",
    "    \n",
    "\n",
    "    plt.plot(np.arange(1, len(snapshots)+1), snapshots)\n",
    "\n",
    "    \n",
    "    return cur_log_likelihood, cur_mean, cur_covar, cur_class_probabilities, snapshots\n"
   ]
  },
  {
   "cell_type": "code",
   "execution_count": 64,
   "metadata": {},
   "outputs": [],
   "source": [
    "# Read the data from txt file into a numpy array (rows x columns)\n",
    "def parse_data_from_file_txt(filename: str):\n",
    "    \"\"\"\n",
    "    Get data from a text file and parse them into numpy array\n",
    "\n",
    "    Args:\n",
    "        filename: name of the file (within the same folder as this notebook)\n",
    "    \"\"\"\n",
    "    data = np.genfromtxt(filename, dtype=np.float64)\n",
    "    return data\n",
    "\n",
    "def parse_data_from_file_csv(filename: str):\n",
    "    \"\"\"\n",
    "    Get data from a text file and parse them into numpy array\n",
    "\n",
    "    Args:\n",
    "        filename: name of the file (within the same folder as this notebook)\n",
    "    \"\"\"\n",
    "    df = pd.read_csv(filename)\n",
    "    return df\n",
    "\n",
    "# raw_iyer_data = parse_data_from_file_txt('iyer_gene_data.txt')\n",
    " \n",
    "# # Exclude the gene_id and labels from the data (first 2 columns) + baseline column (0 variance)\n",
    "# iyer_data = raw_iyer_data[:, 3:]\n",
    "# iyer_labels = raw_iyer_data[:, 1] # labels\n",
    "# standardized_data = (iyer_data - iyer_data.mean(axis=0)) / iyer_data.std(axis=0)\n",
    "# print(standardized_data)\n",
    "\n",
    "raw_breast_cancer_data_df = parse_data_from_file_csv('breast_cancer_data.csv')\n",
    "\n",
    "bc_data = raw_breast_cancer_data_df.iloc[:, 2:-2].apply(pd.to_numeric, errors='coerce')\n",
    "bc_labels = raw_breast_cancer_data_df.iloc[:, 1] # labels\n",
    "standardized_data = (bc_data - bc_data.mean(axis=0)) / bc_data.std(axis=0)\n",
    "standardized_data = standardized_data.to_numpy()\n",
    "vectorized_func = np.vectorize(lambda x: 1 if x == 'M' else 0)\n",
    "labels_data = vectorized_func(bc_labels)\n",
    "\n"
   ]
  },
  {
   "cell_type": "code",
   "execution_count": 15,
   "metadata": {},
   "outputs": [],
   "source": [
    "import numpy as np\n",
    "\n",
    "def create_bags_of_labels(standardized_data, labels_data, threshold_ratio=1):\n",
    "    \"\"\"\n",
    "    Create bags of labels for data that meets a specified count threshold.\n",
    "\n",
    "    :param standardized_data: A NumPy array of standardized feature data.\n",
    "    :param labels_data: A NumPy array of corresponding labels.\n",
    "    :param threshold_ratio: A multiplier for the threshold based on the number of features. Defaults to 1.\n",
    "    :return: A tuple containing a list of bags of labels and a list of corresponding labels.\n",
    "    \"\"\"\n",
    "    bags_of_labels = []\n",
    "    labels = []\n",
    "\n",
    "    # Feature count threshold\n",
    "    threshold = threshold_ratio * standardized_data.shape[1]\n",
    "\n",
    "    # Iterate over each unique label to create bags of labels with the specified count\n",
    "    for label in np.unique(labels_data):\n",
    "        # Get the standardized data for the current label\n",
    "        class_data = standardized_data[np.where(labels_data == label)]\n",
    "        \n",
    "        # Add to bags if it meets the count criterion\n",
    "        if len(class_data) > threshold:\n",
    "            bags_of_labels.append(class_data)\n",
    "            labels.append(int(label))\n",
    "\n",
    "    return bags_of_labels, labels"
   ]
  },
  {
   "cell_type": "code",
   "execution_count": 16,
   "metadata": {},
   "outputs": [],
   "source": [
    "\n",
    "def initialize_parameters_gmm(bags_of_labels, num_clusters=3):\n",
    "    pi_ij = []\n",
    "    mean_ij = []\n",
    "    covariance_ij = [] \n",
    "    prior_omega = []\n",
    "    num_clusters = num_clusters\n",
    "    # for i, bag in enumerate(bags_of_labels):\n",
    "    #     kmeans = KMeans(n_clusters=num_clusters, init='k-means++', random_state=12345).fit(bag)\n",
    "    #     initial_means = kmeans.cluster_centers_\n",
    "    #     _, covariances, _ = compute_initial_parameters(bag, initial_means)\n",
    "    #     covariances = check_psd_covar(covariances)\n",
    "    #     log_likelihood, mean, covar, class_prob, _ = run_GMM_EM(bag, K=num_clusters, take_snapshots=False)\n",
    "    #     c_ik.append(class_prob)\n",
    "    #     mean_ik.append(mean)\n",
    "    #     covariance_ik.append(covar)\n",
    "    #     prior_omega.append(len(bag)/N)\n",
    "\n",
    "    N = sum([len(bag) for bag in bags_of_labels])\n",
    "    for i, bag in enumerate(bags_of_labels):\n",
    "        # Initialize and fit the GMM\n",
    "        gmm = GaussianMixture(n_components=num_clusters, random_state=12345, covariance_type='diag').fit(bag)\n",
    "        \n",
    "        # Store the class probabilities (responsibilities) for each data point\n",
    "        mixing_coeffs = gmm.weights_\n",
    "        pi_ij.append(mixing_coeffs)\n",
    "        \n",
    "        # Store the means and covariances learned by the GMM\n",
    "        mean_ij.append(gmm.means_)\n",
    "        covariance_ij.append(gmm.covariances_)\n",
    "        \n",
    "        # Calculate the prior probability for the class based on the bag size\n",
    "        prior_omega.append(len(bag) / N)\n",
    "\n",
    "    return np.array(pi_ij), np.array(mean_ij), np.array(covariance_ij), np.array(prior_omega)"
   ]
  },
  {
   "cell_type": "code",
   "execution_count": 54,
   "metadata": {},
   "outputs": [],
   "source": [
    "\n",
    "def initialize_parameters_kmeans(bags_of_labels, num_clusters=3):\n",
    "    pi_ij = []\n",
    "    mean_ij = []\n",
    "    covariance_ij = [] \n",
    "    prior_omega = []\n",
    "    num_clusters = num_clusters\n",
    "    \n",
    "    N = np.sum([len(bag) for bag in bags_of_labels])\n",
    "\n",
    "    for i, bag in enumerate(bags_of_labels):\n",
    "    \n",
    "        kmeans = KMeans(n_clusters=num_clusters, random_state=1, init='random')\n",
    "\n",
    "        kmeans.fit(bag)\n",
    "\n",
    "        initial_means = kmeans.cluster_centers_\n",
    "\n",
    "        # mean, covariance, class_probabilities = compute_initial_parameters(bag, initial_means)\n",
    "\n",
    "        pi_ij.append([1 / num_clusters] * num_clusters)\n",
    "        mean_ij.append(initial_means)\n",
    "        covariances = []\n",
    "        for j in range(num_clusters):\n",
    "            cluster_points = bag[kmeans.labels_ == j]\n",
    "            # Calculate variances for the diagonal covariance matrix\n",
    "            # If the cluster is empty, use a small variance instead\n",
    "            if len(cluster_points) > 0:\n",
    "                variances = np.var(cluster_points, axis=0)\n",
    "            else:\n",
    "                variances = np.ones(bag.shape[1]) * 1e-6  # small variance for each feature\n",
    "            cov_matrix = np.diag(variances)\n",
    "            covariances.append(cov_matrix)\n",
    "        covariance_ij.append(check_psd_covar(covariances))\n",
    "        prior_omega.append(len(bag) / N)\n",
    "        \n",
    "    return np.array(pi_ij), np.array(mean_ij), np.array(covariance_ij), np.array(prior_omega)"
   ]
  },
  {
   "cell_type": "code",
   "execution_count": 18,
   "metadata": {},
   "outputs": [],
   "source": [
    "# def marginal_x_ij(x: np.ndarray, bags_of_labels, c_ik: list, mean_ik: list, covariance_ik: list, prior_omega: list, K: int):\n",
    "   \n",
    "#    p_ik_x_ij = np.array([[multivariate_normal.pdf(x, mean_ik[i][k], covariance_ik[i][k]) for k in range(K)] for i in range(len(bags_of_labels))])\n",
    "#    p_x_ij_given_omega_i = np.sum(p_ik_x_ij * np.array(c_ik), axis=1)\n",
    "#    p_x_ij = p_x_ij_given_omega_i @ prior_omega\n",
    "    \n",
    "#    return p_x_ij + 1e-10\n",
    "\n",
    "# # valid_count = 0\n",
    "# # for i, bag in  enumerate(bags_of_labels):\n",
    "# #    for j, x_ij in enumerate(bag):\n",
    "# #       if marginal_x_ij(x_ij, bags_of_labels, c_ik, mean_ik, covariance_ik, prior_omega, K=num_clusters) < 1:\n",
    "# #          valid_count += 1\n",
    "# # print(valid_count/N)"
   ]
  },
  {
   "cell_type": "code",
   "execution_count": 19,
   "metadata": {},
   "outputs": [],
   "source": [
    "def E_step_supervised(bags_of_labels, pi_ij: list, mean_ij: list, covariance_ij: list, prior_omega: list, J: int, beta=0.5):\n",
    "    # Bags of class-specific responsibilities\n",
    "    gamma_ikj_bags = [] \n",
    "\n",
    "    for i, bag in enumerate(bags_of_labels):\n",
    "        p_x_given_z_c = np.array([[multivariate_normal.pdf(x, mean_ij[i][j], covariance_ij[i][j]) for j in range(J)] for x in bag])\n",
    "        p_z_given_x_c = pi_ij[i] * p_x_given_z_c \n",
    "        gamma_ikj = p_z_given_x_c / np.sum(p_z_given_x_c, axis=1)[:, np.newaxis]\n",
    "        gamma_ikj_bags.append(gamma_ikj)\n",
    "\n",
    "    return gamma_ikj_bags\n"
   ]
  },
  {
   "cell_type": "code",
   "execution_count": 20,
   "metadata": {},
   "outputs": [],
   "source": [
    "def M_step_supervised(bags_of_labels, gamma_ikj_bags, K):\n",
    "    new_pi_ij = []\n",
    "    new_mean_ij = []\n",
    "    new_covariance_ij = []\n",
    "\n",
    "    for i, bag_of_class in enumerate(bags_of_labels):\n",
    "        N_ij = np.sum(gamma_ikj_bags[i], axis=0)\n",
    "\n",
    "        new_pi_ij_class = N_ij / np.sum(N_ij)\n",
    "        new_mean_ij_class = np.dot(gamma_ikj_bags[i].T, bag_of_class) / N_ij[:, np.newaxis]\n",
    "\n",
    "        new_covariance_ij_class = []\n",
    "        for j in range(K):\n",
    "            deviations = bag_of_class - new_mean_ij_class[j]\n",
    "            weighted_deviations = gamma_ikj_bags[i][:, j][:, np.newaxis] * deviations\n",
    "            cov_ij = np.dot(weighted_deviations.T, deviations) / N_ij[j]\n",
    "            new_covariance_ij_class.append(cov_ij)\n",
    "\n",
    "        new_pi_ij.append(new_pi_ij_class)\n",
    "        new_mean_ij.append(np.array(new_mean_ij_class))\n",
    "        new_covariance_ij.append(np.array(new_covariance_ij_class))\n",
    "\n",
    "    return np.array(new_pi_ij), np.array(new_mean_ij), np.array(new_covariance_ij)"
   ]
  },
  {
   "cell_type": "code",
   "execution_count": 21,
   "metadata": {},
   "outputs": [],
   "source": [
    "\n",
    "import matplotlib.pyplot as plt\n",
    "def supervised_GMM(data, labels_data, num_clusters=3, convergence_threshold=1e-6, max_iterations=100, plot=False):\n",
    "\n",
    "    bags_of_labels, _ = create_bags_of_labels(data, labels_data)\n",
    "\n",
    "    pi_ij, mean_ij, covariance_ij, prior_omega = initialize_parameters_kmeans(bags_of_labels, num_clusters)\n",
    "    print(np.array(pi_ij).shape)\n",
    "    print(pi_ij)\n",
    "    print(np.array(mean_ij).shape)\n",
    "    print(np.array(covariance_ij).shape)\n",
    "    prev_log_likelihood = -np.inf  # Initialize previous log likelihood to negative infinity for comparison\n",
    "\n",
    "    log_likelihood_track = []\n",
    "    # Run the EM algorithm until convergence\n",
    "    for iteration in range(1, max_iterations+1):  # You can also add a maximum number of iterations as a safeguard\n",
    "        \n",
    "        # E-step\n",
    "        gamma_ikj_bags = E_step_supervised(bags_of_labels, pi_ij, mean_ij, covariance_ij, prior_omega, num_clusters)\n",
    "        \n",
    "        # print(gamma_ikj_bags[0])\n",
    "\n",
    "        # M-step\n",
    "        new_pi_ij, new_mean_ij, new_covariance_ij = M_step_supervised(bags_of_labels, gamma_ikj_bags, num_clusters)\n",
    "\n",
    "        # print(new_pi_ij)\n",
    "\n",
    "        new_covariance_ij = [check_psd_covar(list(cov_i)) for cov_i in new_covariance_ij]\n",
    "        \n",
    "        # Compute the log likelihood of the current model\n",
    "        current_log_likelihood = compute_conditional_log_likelihood(bags_of_labels, new_pi_ij, new_mean_ij, new_covariance_ij, prior_omega, num_clusters)\n",
    "        \n",
    "        # Check for convergence\n",
    "        if np.abs(current_log_likelihood - prev_log_likelihood) < convergence_threshold:\n",
    "            print(iteration)\n",
    "            break\n",
    "        # Update the parameters for the next iteration\n",
    "        pi_ij, mean_ij, covariance_ij = new_pi_ij, new_mean_ij, new_covariance_ij\n",
    "        prev_log_likelihood = current_log_likelihood\n",
    "        log_likelihood_track.append(prev_log_likelihood)\n",
    "\n",
    "    if plot is True:\n",
    "        plt.plot(np.arange(1, len(log_likelihood_track)+1), log_likelihood_track)\n",
    "    \n",
    "    return pi_ij, mean_ij, covariance_ij, log_likelihood_track"
   ]
  },
  {
   "cell_type": "code",
   "execution_count": 22,
   "metadata": {},
   "outputs": [],
   "source": [
    "def compute_conditional_log_likelihood(bags_of_labels, pi_ij, mean_ij, covariance_ij, prior_omega, num_clusters):\n",
    "    # This function should compute the log-likelihood of the current model given the data\n",
    "    log_likelihood = 0\n",
    "\n",
    "    for i, bag in enumerate(bags_of_labels):\n",
    "        p_x_given_z_c = np.array([[multivariate_normal.pdf(x, mean_ij[i][j], covariance_ij[i][j]) for j in range(num_clusters)] for x in bag])\n",
    "        log_likelihood += np.sum(np.log(p_x_given_z_c @ pi_ij[i] + 1e-8))\n",
    "\n",
    "    return log_likelihood"
   ]
  },
  {
   "cell_type": "code",
   "execution_count": 23,
   "metadata": {},
   "outputs": [],
   "source": [
    "def calculate_posterior_probabilities(x, pi_ij, mean_ij, covariance_ij, prior_omega, num_clusters):\n",
    "    posterior_probs = []\n",
    "    for i in range(len(mean_ij)):\n",
    "        # Compute the likelihood of x for each component j in class i\n",
    "        likelihoods = np.array([multivariate_normal(mean=mean_ij[i][j], cov=covariance_ij[i][j]).pdf(x) for j in range(num_clusters)])\n",
    "        # Compute the total likelihood for class i by summing the component likelihoods weighted by their mixing coefficients\n",
    "        total_likelihood = np.dot(likelihoods, pi_ij[i])\n",
    "        # Apply Bayes' theorem to get the posterior probability for class i\n",
    "        posterior_prob = total_likelihood * prior_omega[i]\n",
    "        posterior_probs.append(posterior_prob)\n",
    "    # Normalize the posterior probabilities so they sum to 1\n",
    "    posterior_probs = np.array(posterior_probs) / (sum(posterior_probs) + 1e-8)\n",
    "    return posterior_probs"
   ]
  },
  {
   "cell_type": "code",
   "execution_count": 24,
   "metadata": {},
   "outputs": [],
   "source": [
    "def predict_single(x, pi_ij, mean_ij, covariance_ij, prior_omega, num_clusters):\n",
    "    posterior_probs = calculate_posterior_probabilities(x, pi_ij, mean_ij, covariance_ij, prior_omega, num_clusters)\n",
    "    prediction = np.argmax(posterior_probs)\n",
    "    return prediction"
   ]
  },
  {
   "cell_type": "code",
   "execution_count": 25,
   "metadata": {},
   "outputs": [],
   "source": [
    "def calculate_accuracy(predictions, ground_truth):\n",
    "    correct_count = 0\n",
    "\n",
    "    # Ensure that the length of predictions and ground_truth are the same\n",
    "    if len(predictions) != len(ground_truth):\n",
    "        raise ValueError(\"The length of predictions and ground truth labels must be the same.\")\n",
    "\n",
    "    # Count the number of correct predictions\n",
    "    for pred, truth in zip(predictions, ground_truth):\n",
    "        if pred == truth:\n",
    "            correct_count += 1\n",
    "\n",
    "    # Calculate the accuracy\n",
    "    accuracy = correct_count / len(predictions)\n",
    "    return accuracy\n"
   ]
  },
  {
   "cell_type": "code",
   "execution_count": 73,
   "metadata": {},
   "outputs": [],
   "source": [
    "from sklearn.model_selection import train_test_split\n",
    "\n",
    "raw_iyer_data = parse_data_from_file_txt(\"iyer.txt\")\n",
    "iyer_data = raw_iyer_data[:, 3:]\n",
    "iyer_labels = raw_iyer_data[:, 1] # labels\n",
    "standardized_iyer_data = (iyer_data - iyer_data.mean(axis=0)) / iyer_data.std(axis=0)\n",
    "labels_data = iyer_labels\n",
    "\n",
    "# Assuming X is your feature matrix and y is the target vector\n",
    "X_train, X_test, y_train, y_test = train_test_split(standardized_iyer_data, labels_data, test_size=0.2, random_state=12345)"
   ]
  },
  {
   "cell_type": "markdown",
   "metadata": {},
   "source": []
  },
  {
   "cell_type": "code",
   "execution_count": 74,
   "metadata": {},
   "outputs": [
    {
     "name": "stderr",
     "output_type": "stream",
     "text": [
      "c:\\Users\\lemin\\miniconda3\\envs\\ai1\\Lib\\site-packages\\sklearn\\cluster\\_kmeans.py:1446: UserWarning: KMeans is known to have a memory leak on Windows with MKL, when there are less chunks than available threads. You can avoid it by setting the environment variable OMP_NUM_THREADS=1.\n",
      "  warnings.warn(\n",
      "c:\\Users\\lemin\\miniconda3\\envs\\ai1\\Lib\\site-packages\\sklearn\\cluster\\_kmeans.py:1446: UserWarning: KMeans is known to have a memory leak on Windows with MKL, when there are less chunks than available threads. You can avoid it by setting the environment variable OMP_NUM_THREADS=1.\n",
      "  warnings.warn(\n",
      "c:\\Users\\lemin\\miniconda3\\envs\\ai1\\Lib\\site-packages\\sklearn\\cluster\\_kmeans.py:1446: UserWarning: KMeans is known to have a memory leak on Windows with MKL, when there are less chunks than available threads. You can avoid it by setting the environment variable OMP_NUM_THREADS=1.\n",
      "  warnings.warn(\n",
      "c:\\Users\\lemin\\miniconda3\\envs\\ai1\\Lib\\site-packages\\sklearn\\cluster\\_kmeans.py:1446: UserWarning: KMeans is known to have a memory leak on Windows with MKL, when there are less chunks than available threads. You can avoid it by setting the environment variable OMP_NUM_THREADS=1.\n",
      "  warnings.warn(\n",
      "c:\\Users\\lemin\\miniconda3\\envs\\ai1\\Lib\\site-packages\\sklearn\\cluster\\_kmeans.py:1446: UserWarning: KMeans is known to have a memory leak on Windows with MKL, when there are less chunks than available threads. You can avoid it by setting the environment variable OMP_NUM_THREADS=1.\n",
      "  warnings.warn(\n",
      "c:\\Users\\lemin\\miniconda3\\envs\\ai1\\Lib\\site-packages\\sklearn\\cluster\\_kmeans.py:1446: UserWarning: KMeans is known to have a memory leak on Windows with MKL, when there are less chunks than available threads. You can avoid it by setting the environment variable OMP_NUM_THREADS=1.\n",
      "  warnings.warn(\n",
      "c:\\Users\\lemin\\miniconda3\\envs\\ai1\\Lib\\site-packages\\sklearn\\cluster\\_kmeans.py:1446: UserWarning: KMeans is known to have a memory leak on Windows with MKL, when there are less chunks than available threads. You can avoid it by setting the environment variable OMP_NUM_THREADS=1.\n",
      "  warnings.warn(\n",
      "c:\\Users\\lemin\\miniconda3\\envs\\ai1\\Lib\\site-packages\\sklearn\\cluster\\_kmeans.py:1446: UserWarning: KMeans is known to have a memory leak on Windows with MKL, when there are less chunks than available threads. You can avoid it by setting the environment variable OMP_NUM_THREADS=1.\n",
      "  warnings.warn(\n",
      "c:\\Users\\lemin\\miniconda3\\envs\\ai1\\Lib\\site-packages\\sklearn\\cluster\\_kmeans.py:1446: UserWarning: KMeans is known to have a memory leak on Windows with MKL, when there are less chunks than available threads. You can avoid it by setting the environment variable OMP_NUM_THREADS=1.\n",
      "  warnings.warn(\n"
     ]
    },
    {
     "name": "stdout",
     "output_type": "stream",
     "text": [
      "(9, 1)\n",
      "[[1.]\n",
      " [1.]\n",
      " [1.]\n",
      " [1.]\n",
      " [1.]\n",
      " [1.]\n",
      " [1.]\n",
      " [1.]\n",
      " [1.]]\n",
      "(9, 1, 11)\n",
      "(9, 1, 11, 11)\n",
      "2\n",
      "[[1.]\n",
      " [1.]\n",
      " [1.]\n",
      " [1.]\n",
      " [1.]\n",
      " [1.]\n",
      " [1.]\n",
      " [1.]\n",
      " [1.]]\n"
     ]
    },
    {
     "ename": "IndexError",
     "evalue": "list index out of range",
     "output_type": "error",
     "traceback": [
      "\u001b[1;31m---------------------------------------------------------------------------\u001b[0m",
      "\u001b[1;31mIndexError\u001b[0m                                Traceback (most recent call last)",
      "Cell \u001b[1;32mIn[74], line 15\u001b[0m\n\u001b[0;32m     13\u001b[0m     c_ij, mean_ij, covariance_ij, log_likelihood_track \u001b[38;5;241m=\u001b[39m supervised_GMM(X_train, y_train, num_clusters\u001b[38;5;241m=\u001b[39mnum_cluster, plot\u001b[38;5;241m=\u001b[39m\u001b[38;5;28;01mTrue\u001b[39;00m)\n\u001b[0;32m     14\u001b[0m     \u001b[38;5;28mprint\u001b[39m(c_ij)\n\u001b[1;32m---> 15\u001b[0m     predictions \u001b[38;5;241m=\u001b[39m [predict_single(x, c_ij, mean_ij, covariance_ij, prior_omega, num_cluster) \u001b[38;5;28;01mfor\u001b[39;00m x \u001b[38;5;129;01min\u001b[39;00m X_train]\n\u001b[0;32m     16\u001b[0m     accuracy_arr\u001b[38;5;241m.\u001b[39mappend(calculate_accuracy(predictions, y_train))\n\u001b[0;32m     18\u001b[0m \u001b[38;5;66;03m# Now, let's plot the accuracies with proper title and annotations\u001b[39;00m\n",
      "Cell \u001b[1;32mIn[24], line 2\u001b[0m, in \u001b[0;36mpredict_single\u001b[1;34m(x, pi_ij, mean_ij, covariance_ij, prior_omega, num_clusters)\u001b[0m\n\u001b[0;32m      1\u001b[0m \u001b[38;5;28;01mdef\u001b[39;00m \u001b[38;5;21mpredict_single\u001b[39m(x, pi_ij, mean_ij, covariance_ij, prior_omega, num_clusters):\n\u001b[1;32m----> 2\u001b[0m     posterior_probs \u001b[38;5;241m=\u001b[39m calculate_posterior_probabilities(x, pi_ij, mean_ij, covariance_ij, prior_omega, num_clusters)\n\u001b[0;32m      3\u001b[0m     prediction \u001b[38;5;241m=\u001b[39m np\u001b[38;5;241m.\u001b[39margmax(posterior_probs)\n\u001b[0;32m      4\u001b[0m     \u001b[38;5;28;01mreturn\u001b[39;00m prediction\n",
      "Cell \u001b[1;32mIn[23], line 9\u001b[0m, in \u001b[0;36mcalculate_posterior_probabilities\u001b[1;34m(x, pi_ij, mean_ij, covariance_ij, prior_omega, num_clusters)\u001b[0m\n\u001b[0;32m      7\u001b[0m     total_likelihood \u001b[38;5;241m=\u001b[39m np\u001b[38;5;241m.\u001b[39mdot(likelihoods, pi_ij[i])\n\u001b[0;32m      8\u001b[0m     \u001b[38;5;66;03m# Apply Bayes' theorem to get the posterior probability for class i\u001b[39;00m\n\u001b[1;32m----> 9\u001b[0m     posterior_prob \u001b[38;5;241m=\u001b[39m total_likelihood \u001b[38;5;241m*\u001b[39m prior_omega[i]\n\u001b[0;32m     10\u001b[0m     posterior_probs\u001b[38;5;241m.\u001b[39mappend(posterior_prob)\n\u001b[0;32m     11\u001b[0m \u001b[38;5;66;03m# Normalize the posterior probabilities so they sum to 1\u001b[39;00m\n",
      "\u001b[1;31mIndexError\u001b[0m: list index out of range"
     ]
    },
    {
     "data": {
      "image/png": "[encoded data removed]",
      "text/plain": [
       "<Figure size 640x480 with 1 Axes>"
      ]
     },
     "metadata": {},
     "output_type": "display_data"
    }
   ],
   "source": [
    "import matplotlib.pyplot as plt\n",
    "\n",
    "max_num_clusters = 10\n",
    "accuracy_arr = []\n",
    "N = len(standardized_iyer_data)\n",
    "\n",
    "# Assuming create_bags_of_labels and supervised_GMM functions are defined elsewhere\n",
    "bags_of_labels = create_bags_of_labels(X_train, y_train)\n",
    "prior_omega = [len(bag)/N for bag in bags_of_labels]\n",
    "\n",
    "\n",
    "for num_cluster in range(1, max_num_clusters+1):\n",
    "    c_ij, mean_ij, covariance_ij, log_likelihood_track = supervised_GMM(X_train, y_train, num_clusters=num_cluster, plot=True)\n",
    "    print(c_ij)\n",
    "    predictions = [predict_single(x, c_ij, mean_ij, covariance_ij, prior_omega, num_cluster) for x in X_train]\n",
    "    accuracy_arr.append(calculate_accuracy(predictions, y_train))\n",
    "\n",
    "# Now, let's plot the accuracies with proper title and annotations\n",
    "plt.figure(figsize=(8, 6))  # Set the figure size for better readability\n",
    "plt.plot(np.arange(1, max_num_clusters+1), accuracy_arr, marker='o')  # Adding a marker for each data point\n",
    "plt.title('Model Accuracy vs Number of Subclasses')  # Title for the plot\n",
    "plt.xlabel('Number of Subclasses (Clusters)')  # X-axis label\n",
    "plt.ylabel('Model Accuracy')  # Y-axis label\n",
    "plt.xticks(np.arange(1, max_num_clusters+1))  # Ensuring there's a tick for each number of clusters\n",
    "plt.grid(True)  # Adding a grid for better readability\n",
    "\n",
    "# Optionally, you can annotate each point with its accuracy\n",
    "for i, txt in enumerate(accuracy_arr):\n",
    "    plt.annotate(f\"{txt:.4f}\", (i + 1, txt), textcoords=\"offset points\", xytext=(0,10), ha='center')\n",
    "\n",
    "plt.show()  # Display the plot\n"
   ]
  },
  {
   "cell_type": "code",
   "execution_count": 52,
   "metadata": {},
   "outputs": [],
   "source": [
    "from sklearn.base import BaseEstimator, ClassifierMixin\n",
    "from sklearn.cluster import KMeans\n",
    "from scipy.stats import multivariate_normal\n",
    "import numpy as np\n",
    "\n",
    "class SupervisedGMM(BaseEstimator, ClassifierMixin):\n",
    "    def __init__(self, num_clusters=3, convergence_threshold=1e-6, max_iterations=100):\n",
    "        self.num_clusters = num_clusters\n",
    "        self.convergence_threshold = convergence_threshold\n",
    "        self.max_iterations = max_iterations\n",
    "        self.pi_ij = None\n",
    "        self.mean_ij = None\n",
    "        self.covariance_ij = None\n",
    "        self.prior_omega = None\n",
    "        self.classes_ = None\n",
    "\n",
    "    def fit(self, X, y):\n",
    "        # Initializing parameters and fitting the GMM\n",
    "        self.classes_ = np.unique(y)\n",
    "        self.bags_of_labels, self.labels = self.create_bags_of_labels_wrapper(X, y)\n",
    "        self.pi_ij, self.mean_ij, self.covariance_ij, self.prior_omega = self.initialize_parameters_kmeans_wrapper(self.bags_of_labels)\n",
    "        print(self.prior_omega)\n",
    "        self.run_em_algorithm()\n",
    "        return self\n",
    "\n",
    "    def predict(self, X_test):\n",
    "        # Predicting labels for the given data\n",
    "        predictions = [self.predict_single_wrapper(x) for x in X_test]\n",
    "        return np.array(predictions)\n",
    "\n",
    "    def predict_proba(self, X):\n",
    "        # Optional: Calculate class probabilities, useful for some Scikit-learn functionalities\n",
    "        probas = [self.calculate_posterior_probabilities_wrapper(x) for x in X]\n",
    "        return np.array(probas)\n",
    "\n",
    "    def create_bags_of_labels_wrapper(self, X, y):\n",
    "        return create_bags_of_labels(X, y)\n",
    "\n",
    "    def initialize_parameters_kmeans_wrapper(self, bags_of_labels):\n",
    "        return initialize_parameters_kmeans(bags_of_labels, self.num_clusters)\n",
    "\n",
    "    def run_em_algorithm(self):\n",
    "        # Implement the loop where you perform the E-step and M-step repeatedly until convergence\n",
    "        prev_log_likelihood = -np.infty\n",
    "        log_likelihood_track = []\n",
    "        for iteration in range(1, self.max_iterations+1):  # You can also add a maximum number of iterations as a safeguard\n",
    "        \n",
    "        # E-step\n",
    "            gamma_ikj_bags = E_step_supervised(self.bags_of_labels, self.pi_ij, self.mean_ij, self.covariance_ij, self.prior_omega, self.num_clusters)\n",
    "            \n",
    "            # print(gamma_ikj_bags[0])\n",
    "\n",
    "            # M-step\n",
    "            new_pi_ij, new_mean_ij, new_covariance_ij = M_step_supervised(self.bags_of_labels, gamma_ikj_bags, self.num_clusters)\n",
    "\n",
    "            # print(new_pi_ij)\n",
    "\n",
    "            new_covariance_ij = [check_psd_covar(list(cov_i)) for cov_i in new_covariance_ij]\n",
    "            \n",
    "            # Compute the log likelihood of the current model\n",
    "            current_log_likelihood = compute_conditional_log_likelihood(self.bags_of_labels, new_pi_ij, new_mean_ij, new_covariance_ij, self.prior_omega, self.num_clusters)\n",
    "            \n",
    "            # Check for convergence\n",
    "            if np.abs(current_log_likelihood - prev_log_likelihood) < self.convergence_threshold:\n",
    "                print(iteration)\n",
    "\n",
    "                break\n",
    "            # Update the parameters for the next iteration\n",
    "            self.pi_ij, self.mean_ij, self.covariance_ij = new_pi_ij, new_mean_ij, new_covariance_ij\n",
    "            prev_log_likelihood = current_log_likelihood\n",
    "            log_likelihood_track.append(prev_log_likelihood)\n",
    "\n",
    "        return self.pi_ij, self.mean_ij, self.covariance_ij, log_likelihood_track\n",
    "\n",
    "    def predict_single_wrapper(self, x):\n",
    "        # Logic to predict a single instance\n",
    "        return predict_single(x, self.pi_ij, self.mean_ij, self.covariance_ij, self.prior_omega, self.num_clusters)\n",
    "\n",
    "    def calculate_posterior_probabilities_wrapper(self, x):\n",
    "        # Logic to calculate posterior probabilities for a single instance\n",
    "        return calculate_posterior_probabilities(x, self.pi_ij, self.mean_ij, self.covariance_ij, self.prior_omega, self.num_clusters)\n",
    "    "
   ]
  },
  {
   "cell_type": "code",
   "execution_count": 55,
   "metadata": {},
   "outputs": [
    {
     "name": "stderr",
     "output_type": "stream",
     "text": [
      "c:\\Users\\lemin\\miniconda3\\envs\\ai1\\Lib\\site-packages\\sklearn\\cluster\\_kmeans.py:1446: UserWarning: KMeans is known to have a memory leak on Windows with MKL, when there are less chunks than available threads. You can avoid it by setting the environment variable OMP_NUM_THREADS=1.\n",
      "  warnings.warn(\n",
      "c:\\Users\\lemin\\miniconda3\\envs\\ai1\\Lib\\site-packages\\sklearn\\cluster\\_kmeans.py:1446: UserWarning: KMeans is known to have a memory leak on Windows with MKL, when there are less chunks than available threads. You can avoid it by setting the environment variable OMP_NUM_THREADS=1.\n",
      "  warnings.warn(\n"
     ]
    },
    {
     "name": "stdout",
     "output_type": "stream",
     "text": [
      "[0.62637363 0.37362637]\n",
      "2\n"
     ]
    },
    {
     "name": "stderr",
     "output_type": "stream",
     "text": [
      "c:\\Users\\lemin\\miniconda3\\envs\\ai1\\Lib\\site-packages\\sklearn\\cluster\\_kmeans.py:1446: UserWarning: KMeans is known to have a memory leak on Windows with MKL, when there are less chunks than available threads. You can avoid it by setting the environment variable OMP_NUM_THREADS=1.\n",
      "  warnings.warn(\n",
      "c:\\Users\\lemin\\miniconda3\\envs\\ai1\\Lib\\site-packages\\sklearn\\cluster\\_kmeans.py:1446: UserWarning: KMeans is known to have a memory leak on Windows with MKL, when there are less chunks than available threads. You can avoid it by setting the environment variable OMP_NUM_THREADS=1.\n",
      "  warnings.warn(\n"
     ]
    },
    {
     "name": "stdout",
     "output_type": "stream",
     "text": [
      "[0.62637363 0.37362637]\n",
      "2\n"
     ]
    },
    {
     "name": "stderr",
     "output_type": "stream",
     "text": [
      "c:\\Users\\lemin\\miniconda3\\envs\\ai1\\Lib\\site-packages\\sklearn\\cluster\\_kmeans.py:1446: UserWarning: KMeans is known to have a memory leak on Windows with MKL, when there are less chunks than available threads. You can avoid it by setting the environment variable OMP_NUM_THREADS=1.\n",
      "  warnings.warn(\n",
      "c:\\Users\\lemin\\miniconda3\\envs\\ai1\\Lib\\site-packages\\sklearn\\cluster\\_kmeans.py:1446: UserWarning: KMeans is known to have a memory leak on Windows with MKL, when there are less chunks than available threads. You can avoid it by setting the environment variable OMP_NUM_THREADS=1.\n",
      "  warnings.warn(\n"
     ]
    },
    {
     "name": "stdout",
     "output_type": "stream",
     "text": [
      "[0.62637363 0.37362637]\n",
      "2\n"
     ]
    },
    {
     "name": "stderr",
     "output_type": "stream",
     "text": [
      "c:\\Users\\lemin\\miniconda3\\envs\\ai1\\Lib\\site-packages\\sklearn\\cluster\\_kmeans.py:1446: UserWarning: KMeans is known to have a memory leak on Windows with MKL, when there are less chunks than available threads. You can avoid it by setting the environment variable OMP_NUM_THREADS=1.\n",
      "  warnings.warn(\n",
      "c:\\Users\\lemin\\miniconda3\\envs\\ai1\\Lib\\site-packages\\sklearn\\cluster\\_kmeans.py:1446: UserWarning: KMeans is known to have a memory leak on Windows with MKL, when there are less chunks than available threads. You can avoid it by setting the environment variable OMP_NUM_THREADS=1.\n",
      "  warnings.warn(\n"
     ]
    },
    {
     "name": "stdout",
     "output_type": "stream",
     "text": [
      "[0.62637363 0.37362637]\n",
      "2\n"
     ]
    },
    {
     "name": "stderr",
     "output_type": "stream",
     "text": [
      "c:\\Users\\lemin\\miniconda3\\envs\\ai1\\Lib\\site-packages\\sklearn\\cluster\\_kmeans.py:1446: UserWarning: KMeans is known to have a memory leak on Windows with MKL, when there are less chunks than available threads. You can avoid it by setting the environment variable OMP_NUM_THREADS=1.\n",
      "  warnings.warn(\n",
      "c:\\Users\\lemin\\miniconda3\\envs\\ai1\\Lib\\site-packages\\sklearn\\cluster\\_kmeans.py:1446: UserWarning: KMeans is known to have a memory leak on Windows with MKL, when there are less chunks than available threads. You can avoid it by setting the environment variable OMP_NUM_THREADS=1.\n",
      "  warnings.warn(\n"
     ]
    },
    {
     "name": "stdout",
     "output_type": "stream",
     "text": [
      "[0.62637363 0.37362637]\n",
      "2\n",
      "Number of Clusters: 1, Cross-Validated Accuracy: 0.9516483516483516\n"
     ]
    },
    {
     "name": "stderr",
     "output_type": "stream",
     "text": [
      "c:\\Users\\lemin\\miniconda3\\envs\\ai1\\Lib\\site-packages\\sklearn\\cluster\\_kmeans.py:1446: UserWarning: KMeans is known to have a memory leak on Windows with MKL, when there are less chunks than available threads. You can avoid it by setting the environment variable OMP_NUM_THREADS=1.\n",
      "  warnings.warn(\n",
      "c:\\Users\\lemin\\miniconda3\\envs\\ai1\\Lib\\site-packages\\sklearn\\cluster\\_kmeans.py:1446: UserWarning: KMeans is known to have a memory leak on Windows with MKL, when there are less chunks than available threads. You can avoid it by setting the environment variable OMP_NUM_THREADS=1.\n",
      "  warnings.warn(\n"
     ]
    },
    {
     "name": "stdout",
     "output_type": "stream",
     "text": [
      "[0.62637363 0.37362637]\n",
      "25\n"
     ]
    },
    {
     "name": "stderr",
     "output_type": "stream",
     "text": [
      "c:\\Users\\lemin\\miniconda3\\envs\\ai1\\Lib\\site-packages\\sklearn\\cluster\\_kmeans.py:1446: UserWarning: KMeans is known to have a memory leak on Windows with MKL, when there are less chunks than available threads. You can avoid it by setting the environment variable OMP_NUM_THREADS=1.\n",
      "  warnings.warn(\n",
      "c:\\Users\\lemin\\miniconda3\\envs\\ai1\\Lib\\site-packages\\sklearn\\cluster\\_kmeans.py:1446: UserWarning: KMeans is known to have a memory leak on Windows with MKL, when there are less chunks than available threads. You can avoid it by setting the environment variable OMP_NUM_THREADS=1.\n",
      "  warnings.warn(\n"
     ]
    },
    {
     "name": "stdout",
     "output_type": "stream",
     "text": [
      "[0.62637363 0.37362637]\n",
      "18\n"
     ]
    },
    {
     "name": "stderr",
     "output_type": "stream",
     "text": [
      "c:\\Users\\lemin\\miniconda3\\envs\\ai1\\Lib\\site-packages\\sklearn\\cluster\\_kmeans.py:1446: UserWarning: KMeans is known to have a memory leak on Windows with MKL, when there are less chunks than available threads. You can avoid it by setting the environment variable OMP_NUM_THREADS=1.\n",
      "  warnings.warn(\n",
      "c:\\Users\\lemin\\miniconda3\\envs\\ai1\\Lib\\site-packages\\sklearn\\cluster\\_kmeans.py:1446: UserWarning: KMeans is known to have a memory leak on Windows with MKL, when there are less chunks than available threads. You can avoid it by setting the environment variable OMP_NUM_THREADS=1.\n",
      "  warnings.warn(\n"
     ]
    },
    {
     "name": "stdout",
     "output_type": "stream",
     "text": [
      "[0.62637363 0.37362637]\n",
      "40\n"
     ]
    },
    {
     "name": "stderr",
     "output_type": "stream",
     "text": [
      "c:\\Users\\lemin\\miniconda3\\envs\\ai1\\Lib\\site-packages\\sklearn\\cluster\\_kmeans.py:1446: UserWarning: KMeans is known to have a memory leak on Windows with MKL, when there are less chunks than available threads. You can avoid it by setting the environment variable OMP_NUM_THREADS=1.\n",
      "  warnings.warn(\n",
      "c:\\Users\\lemin\\miniconda3\\envs\\ai1\\Lib\\site-packages\\sklearn\\cluster\\_kmeans.py:1446: UserWarning: KMeans is known to have a memory leak on Windows with MKL, when there are less chunks than available threads. You can avoid it by setting the environment variable OMP_NUM_THREADS=1.\n",
      "  warnings.warn(\n"
     ]
    },
    {
     "name": "stdout",
     "output_type": "stream",
     "text": [
      "[0.62637363 0.37362637]\n",
      "12\n"
     ]
    },
    {
     "name": "stderr",
     "output_type": "stream",
     "text": [
      "c:\\Users\\lemin\\miniconda3\\envs\\ai1\\Lib\\site-packages\\sklearn\\cluster\\_kmeans.py:1446: UserWarning: KMeans is known to have a memory leak on Windows with MKL, when there are less chunks than available threads. You can avoid it by setting the environment variable OMP_NUM_THREADS=1.\n",
      "  warnings.warn(\n",
      "c:\\Users\\lemin\\miniconda3\\envs\\ai1\\Lib\\site-packages\\sklearn\\cluster\\_kmeans.py:1446: UserWarning: KMeans is known to have a memory leak on Windows with MKL, when there are less chunks than available threads. You can avoid it by setting the environment variable OMP_NUM_THREADS=1.\n",
      "  warnings.warn(\n"
     ]
    },
    {
     "name": "stdout",
     "output_type": "stream",
     "text": [
      "[0.62637363 0.37362637]\n",
      "50\n",
      "Number of Clusters: 2, Cross-Validated Accuracy: 0.9428571428571428\n",
      "[0.62637363 0.37362637]\n"
     ]
    },
    {
     "name": "stderr",
     "output_type": "stream",
     "text": [
      "c:\\Users\\lemin\\miniconda3\\envs\\ai1\\Lib\\site-packages\\sklearn\\cluster\\_kmeans.py:1446: UserWarning: KMeans is known to have a memory leak on Windows with MKL, when there are less chunks than available threads. You can avoid it by setting the environment variable OMP_NUM_THREADS=1.\n",
      "  warnings.warn(\n",
      "c:\\Users\\lemin\\miniconda3\\envs\\ai1\\Lib\\site-packages\\sklearn\\cluster\\_kmeans.py:1446: UserWarning: KMeans is known to have a memory leak on Windows with MKL, when there are less chunks than available threads. You can avoid it by setting the environment variable OMP_NUM_THREADS=1.\n",
      "  warnings.warn(\n"
     ]
    },
    {
     "name": "stdout",
     "output_type": "stream",
     "text": [
      "23\n"
     ]
    },
    {
     "name": "stderr",
     "output_type": "stream",
     "text": [
      "c:\\Users\\lemin\\miniconda3\\envs\\ai1\\Lib\\site-packages\\sklearn\\cluster\\_kmeans.py:1446: UserWarning: KMeans is known to have a memory leak on Windows with MKL, when there are less chunks than available threads. You can avoid it by setting the environment variable OMP_NUM_THREADS=1.\n",
      "  warnings.warn(\n",
      "c:\\Users\\lemin\\miniconda3\\envs\\ai1\\Lib\\site-packages\\sklearn\\cluster\\_kmeans.py:1446: UserWarning: KMeans is known to have a memory leak on Windows with MKL, when there are less chunks than available threads. You can avoid it by setting the environment variable OMP_NUM_THREADS=1.\n",
      "  warnings.warn(\n"
     ]
    },
    {
     "name": "stdout",
     "output_type": "stream",
     "text": [
      "[0.62637363 0.37362637]\n",
      "19\n"
     ]
    },
    {
     "name": "stderr",
     "output_type": "stream",
     "text": [
      "c:\\Users\\lemin\\miniconda3\\envs\\ai1\\Lib\\site-packages\\sklearn\\cluster\\_kmeans.py:1446: UserWarning: KMeans is known to have a memory leak on Windows with MKL, when there are less chunks than available threads. You can avoid it by setting the environment variable OMP_NUM_THREADS=1.\n",
      "  warnings.warn(\n",
      "c:\\Users\\lemin\\miniconda3\\envs\\ai1\\Lib\\site-packages\\sklearn\\cluster\\_kmeans.py:1446: UserWarning: KMeans is known to have a memory leak on Windows with MKL, when there are less chunks than available threads. You can avoid it by setting the environment variable OMP_NUM_THREADS=1.\n",
      "  warnings.warn(\n"
     ]
    },
    {
     "name": "stdout",
     "output_type": "stream",
     "text": [
      "[0.62637363 0.37362637]\n",
      "14\n"
     ]
    },
    {
     "name": "stderr",
     "output_type": "stream",
     "text": [
      "c:\\Users\\lemin\\miniconda3\\envs\\ai1\\Lib\\site-packages\\sklearn\\cluster\\_kmeans.py:1446: UserWarning: KMeans is known to have a memory leak on Windows with MKL, when there are less chunks than available threads. You can avoid it by setting the environment variable OMP_NUM_THREADS=1.\n",
      "  warnings.warn(\n",
      "c:\\Users\\lemin\\miniconda3\\envs\\ai1\\Lib\\site-packages\\sklearn\\cluster\\_kmeans.py:1446: UserWarning: KMeans is known to have a memory leak on Windows with MKL, when there are less chunks than available threads. You can avoid it by setting the environment variable OMP_NUM_THREADS=1.\n",
      "  warnings.warn(\n"
     ]
    },
    {
     "name": "stdout",
     "output_type": "stream",
     "text": [
      "[0.62637363 0.37362637]\n",
      "14\n"
     ]
    },
    {
     "name": "stderr",
     "output_type": "stream",
     "text": [
      "c:\\Users\\lemin\\miniconda3\\envs\\ai1\\Lib\\site-packages\\sklearn\\cluster\\_kmeans.py:1446: UserWarning: KMeans is known to have a memory leak on Windows with MKL, when there are less chunks than available threads. You can avoid it by setting the environment variable OMP_NUM_THREADS=1.\n",
      "  warnings.warn(\n",
      "c:\\Users\\lemin\\miniconda3\\envs\\ai1\\Lib\\site-packages\\sklearn\\cluster\\_kmeans.py:1446: UserWarning: KMeans is known to have a memory leak on Windows with MKL, when there are less chunks than available threads. You can avoid it by setting the environment variable OMP_NUM_THREADS=1.\n",
      "  warnings.warn(\n"
     ]
    },
    {
     "name": "stdout",
     "output_type": "stream",
     "text": [
      "[0.62637363 0.37362637]\n",
      "10\n",
      "Number of Clusters: 3, Cross-Validated Accuracy: 0.9340659340659341\n",
      "[0.62637363 0.37362637]\n"
     ]
    },
    {
     "name": "stderr",
     "output_type": "stream",
     "text": [
      "c:\\Users\\lemin\\miniconda3\\envs\\ai1\\Lib\\site-packages\\sklearn\\cluster\\_kmeans.py:1446: UserWarning: KMeans is known to have a memory leak on Windows with MKL, when there are less chunks than available threads. You can avoid it by setting the environment variable OMP_NUM_THREADS=1.\n",
      "  warnings.warn(\n",
      "c:\\Users\\lemin\\miniconda3\\envs\\ai1\\Lib\\site-packages\\sklearn\\cluster\\_kmeans.py:1446: UserWarning: KMeans is known to have a memory leak on Windows with MKL, when there are less chunks than available threads. You can avoid it by setting the environment variable OMP_NUM_THREADS=1.\n",
      "  warnings.warn(\n"
     ]
    },
    {
     "name": "stdout",
     "output_type": "stream",
     "text": [
      "22\n"
     ]
    },
    {
     "name": "stderr",
     "output_type": "stream",
     "text": [
      "c:\\Users\\lemin\\miniconda3\\envs\\ai1\\Lib\\site-packages\\sklearn\\cluster\\_kmeans.py:1446: UserWarning: KMeans is known to have a memory leak on Windows with MKL, when there are less chunks than available threads. You can avoid it by setting the environment variable OMP_NUM_THREADS=1.\n",
      "  warnings.warn(\n",
      "c:\\Users\\lemin\\miniconda3\\envs\\ai1\\Lib\\site-packages\\sklearn\\cluster\\_kmeans.py:1446: UserWarning: KMeans is known to have a memory leak on Windows with MKL, when there are less chunks than available threads. You can avoid it by setting the environment variable OMP_NUM_THREADS=1.\n",
      "  warnings.warn(\n"
     ]
    },
    {
     "name": "stdout",
     "output_type": "stream",
     "text": [
      "[0.62637363 0.37362637]\n",
      "13\n"
     ]
    },
    {
     "name": "stderr",
     "output_type": "stream",
     "text": [
      "c:\\Users\\lemin\\miniconda3\\envs\\ai1\\Lib\\site-packages\\sklearn\\cluster\\_kmeans.py:1446: UserWarning: KMeans is known to have a memory leak on Windows with MKL, when there are less chunks than available threads. You can avoid it by setting the environment variable OMP_NUM_THREADS=1.\n",
      "  warnings.warn(\n",
      "c:\\Users\\lemin\\miniconda3\\envs\\ai1\\Lib\\site-packages\\sklearn\\cluster\\_kmeans.py:1446: UserWarning: KMeans is known to have a memory leak on Windows with MKL, when there are less chunks than available threads. You can avoid it by setting the environment variable OMP_NUM_THREADS=1.\n",
      "  warnings.warn(\n"
     ]
    },
    {
     "name": "stdout",
     "output_type": "stream",
     "text": [
      "[0.62637363 0.37362637]\n",
      "18\n"
     ]
    },
    {
     "name": "stderr",
     "output_type": "stream",
     "text": [
      "c:\\Users\\lemin\\miniconda3\\envs\\ai1\\Lib\\site-packages\\sklearn\\cluster\\_kmeans.py:1446: UserWarning: KMeans is known to have a memory leak on Windows with MKL, when there are less chunks than available threads. You can avoid it by setting the environment variable OMP_NUM_THREADS=1.\n",
      "  warnings.warn(\n",
      "c:\\Users\\lemin\\miniconda3\\envs\\ai1\\Lib\\site-packages\\sklearn\\cluster\\_kmeans.py:1446: UserWarning: KMeans is known to have a memory leak on Windows with MKL, when there are less chunks than available threads. You can avoid it by setting the environment variable OMP_NUM_THREADS=1.\n",
      "  warnings.warn(\n"
     ]
    },
    {
     "name": "stdout",
     "output_type": "stream",
     "text": [
      "[0.62637363 0.37362637]\n",
      "11\n"
     ]
    },
    {
     "name": "stderr",
     "output_type": "stream",
     "text": [
      "c:\\Users\\lemin\\miniconda3\\envs\\ai1\\Lib\\site-packages\\sklearn\\cluster\\_kmeans.py:1446: UserWarning: KMeans is known to have a memory leak on Windows with MKL, when there are less chunks than available threads. You can avoid it by setting the environment variable OMP_NUM_THREADS=1.\n",
      "  warnings.warn(\n",
      "c:\\Users\\lemin\\miniconda3\\envs\\ai1\\Lib\\site-packages\\sklearn\\cluster\\_kmeans.py:1446: UserWarning: KMeans is known to have a memory leak on Windows with MKL, when there are less chunks than available threads. You can avoid it by setting the environment variable OMP_NUM_THREADS=1.\n",
      "  warnings.warn(\n"
     ]
    },
    {
     "name": "stdout",
     "output_type": "stream",
     "text": [
      "[0.62637363 0.37362637]\n",
      "23\n",
      "Number of Clusters: 4, Cross-Validated Accuracy: 0.9274725274725275\n",
      "[0.62637363 0.37362637]\n"
     ]
    },
    {
     "name": "stderr",
     "output_type": "stream",
     "text": [
      "c:\\Users\\lemin\\miniconda3\\envs\\ai1\\Lib\\site-packages\\sklearn\\cluster\\_kmeans.py:1446: UserWarning: KMeans is known to have a memory leak on Windows with MKL, when there are less chunks than available threads. You can avoid it by setting the environment variable OMP_NUM_THREADS=1.\n",
      "  warnings.warn(\n",
      "c:\\Users\\lemin\\miniconda3\\envs\\ai1\\Lib\\site-packages\\sklearn\\cluster\\_kmeans.py:1446: UserWarning: KMeans is known to have a memory leak on Windows with MKL, when there are less chunks than available threads. You can avoid it by setting the environment variable OMP_NUM_THREADS=1.\n",
      "  warnings.warn(\n"
     ]
    },
    {
     "name": "stdout",
     "output_type": "stream",
     "text": [
      "14\n"
     ]
    },
    {
     "name": "stderr",
     "output_type": "stream",
     "text": [
      "c:\\Users\\lemin\\miniconda3\\envs\\ai1\\Lib\\site-packages\\sklearn\\cluster\\_kmeans.py:1446: UserWarning: KMeans is known to have a memory leak on Windows with MKL, when there are less chunks than available threads. You can avoid it by setting the environment variable OMP_NUM_THREADS=1.\n",
      "  warnings.warn(\n",
      "c:\\Users\\lemin\\miniconda3\\envs\\ai1\\Lib\\site-packages\\sklearn\\cluster\\_kmeans.py:1446: UserWarning: KMeans is known to have a memory leak on Windows with MKL, when there are less chunks than available threads. You can avoid it by setting the environment variable OMP_NUM_THREADS=1.\n",
      "  warnings.warn(\n"
     ]
    },
    {
     "name": "stdout",
     "output_type": "stream",
     "text": [
      "[0.62637363 0.37362637]\n",
      "11\n"
     ]
    },
    {
     "name": "stderr",
     "output_type": "stream",
     "text": [
      "c:\\Users\\lemin\\miniconda3\\envs\\ai1\\Lib\\site-packages\\sklearn\\cluster\\_kmeans.py:1446: UserWarning: KMeans is known to have a memory leak on Windows with MKL, when there are less chunks than available threads. You can avoid it by setting the environment variable OMP_NUM_THREADS=1.\n",
      "  warnings.warn(\n",
      "c:\\Users\\lemin\\miniconda3\\envs\\ai1\\Lib\\site-packages\\sklearn\\cluster\\_kmeans.py:1446: UserWarning: KMeans is known to have a memory leak on Windows with MKL, when there are less chunks than available threads. You can avoid it by setting the environment variable OMP_NUM_THREADS=1.\n",
      "  warnings.warn(\n"
     ]
    },
    {
     "name": "stdout",
     "output_type": "stream",
     "text": [
      "[0.62637363 0.37362637]\n",
      "10\n"
     ]
    },
    {
     "name": "stderr",
     "output_type": "stream",
     "text": [
      "c:\\Users\\lemin\\miniconda3\\envs\\ai1\\Lib\\site-packages\\sklearn\\cluster\\_kmeans.py:1446: UserWarning: KMeans is known to have a memory leak on Windows with MKL, when there are less chunks than available threads. You can avoid it by setting the environment variable OMP_NUM_THREADS=1.\n",
      "  warnings.warn(\n",
      "c:\\Users\\lemin\\miniconda3\\envs\\ai1\\Lib\\site-packages\\sklearn\\cluster\\_kmeans.py:1446: UserWarning: KMeans is known to have a memory leak on Windows with MKL, when there are less chunks than available threads. You can avoid it by setting the environment variable OMP_NUM_THREADS=1.\n",
      "  warnings.warn(\n"
     ]
    },
    {
     "name": "stdout",
     "output_type": "stream",
     "text": [
      "[0.62637363 0.37362637]\n",
      "15\n"
     ]
    },
    {
     "name": "stderr",
     "output_type": "stream",
     "text": [
      "c:\\Users\\lemin\\miniconda3\\envs\\ai1\\Lib\\site-packages\\sklearn\\cluster\\_kmeans.py:1446: UserWarning: KMeans is known to have a memory leak on Windows with MKL, when there are less chunks than available threads. You can avoid it by setting the environment variable OMP_NUM_THREADS=1.\n",
      "  warnings.warn(\n",
      "c:\\Users\\lemin\\miniconda3\\envs\\ai1\\Lib\\site-packages\\sklearn\\cluster\\_kmeans.py:1446: UserWarning: KMeans is known to have a memory leak on Windows with MKL, when there are less chunks than available threads. You can avoid it by setting the environment variable OMP_NUM_THREADS=1.\n",
      "  warnings.warn(\n"
     ]
    },
    {
     "name": "stdout",
     "output_type": "stream",
     "text": [
      "[0.62637363 0.37362637]\n",
      "30\n",
      "Number of Clusters: 5, Cross-Validated Accuracy: 0.9362637362637363\n",
      "[0.62637363 0.37362637]\n"
     ]
    },
    {
     "name": "stderr",
     "output_type": "stream",
     "text": [
      "c:\\Users\\lemin\\miniconda3\\envs\\ai1\\Lib\\site-packages\\sklearn\\cluster\\_kmeans.py:1446: UserWarning: KMeans is known to have a memory leak on Windows with MKL, when there are less chunks than available threads. You can avoid it by setting the environment variable OMP_NUM_THREADS=1.\n",
      "  warnings.warn(\n",
      "c:\\Users\\lemin\\miniconda3\\envs\\ai1\\Lib\\site-packages\\sklearn\\cluster\\_kmeans.py:1446: UserWarning: KMeans is known to have a memory leak on Windows with MKL, when there are less chunks than available threads. You can avoid it by setting the environment variable OMP_NUM_THREADS=1.\n",
      "  warnings.warn(\n"
     ]
    },
    {
     "name": "stdout",
     "output_type": "stream",
     "text": [
      "6\n"
     ]
    },
    {
     "name": "stderr",
     "output_type": "stream",
     "text": [
      "c:\\Users\\lemin\\miniconda3\\envs\\ai1\\Lib\\site-packages\\sklearn\\cluster\\_kmeans.py:1446: UserWarning: KMeans is known to have a memory leak on Windows with MKL, when there are less chunks than available threads. You can avoid it by setting the environment variable OMP_NUM_THREADS=1.\n",
      "  warnings.warn(\n",
      "c:\\Users\\lemin\\miniconda3\\envs\\ai1\\Lib\\site-packages\\sklearn\\cluster\\_kmeans.py:1446: UserWarning: KMeans is known to have a memory leak on Windows with MKL, when there are less chunks than available threads. You can avoid it by setting the environment variable OMP_NUM_THREADS=1.\n",
      "  warnings.warn(\n"
     ]
    },
    {
     "name": "stdout",
     "output_type": "stream",
     "text": [
      "[0.62637363 0.37362637]\n",
      "20\n"
     ]
    },
    {
     "name": "stderr",
     "output_type": "stream",
     "text": [
      "c:\\Users\\lemin\\miniconda3\\envs\\ai1\\Lib\\site-packages\\sklearn\\cluster\\_kmeans.py:1446: UserWarning: KMeans is known to have a memory leak on Windows with MKL, when there are less chunks than available threads. You can avoid it by setting the environment variable OMP_NUM_THREADS=1.\n",
      "  warnings.warn(\n",
      "c:\\Users\\lemin\\miniconda3\\envs\\ai1\\Lib\\site-packages\\sklearn\\cluster\\_kmeans.py:1446: UserWarning: KMeans is known to have a memory leak on Windows with MKL, when there are less chunks than available threads. You can avoid it by setting the environment variable OMP_NUM_THREADS=1.\n",
      "  warnings.warn(\n"
     ]
    },
    {
     "name": "stdout",
     "output_type": "stream",
     "text": [
      "[0.62637363 0.37362637]\n",
      "7\n"
     ]
    },
    {
     "name": "stderr",
     "output_type": "stream",
     "text": [
      "c:\\Users\\lemin\\miniconda3\\envs\\ai1\\Lib\\site-packages\\sklearn\\cluster\\_kmeans.py:1446: UserWarning: KMeans is known to have a memory leak on Windows with MKL, when there are less chunks than available threads. You can avoid it by setting the environment variable OMP_NUM_THREADS=1.\n",
      "  warnings.warn(\n",
      "c:\\Users\\lemin\\miniconda3\\envs\\ai1\\Lib\\site-packages\\sklearn\\cluster\\_kmeans.py:1446: UserWarning: KMeans is known to have a memory leak on Windows with MKL, when there are less chunks than available threads. You can avoid it by setting the environment variable OMP_NUM_THREADS=1.\n",
      "  warnings.warn(\n"
     ]
    },
    {
     "name": "stdout",
     "output_type": "stream",
     "text": [
      "[0.62637363 0.37362637]\n",
      "8\n"
     ]
    },
    {
     "name": "stderr",
     "output_type": "stream",
     "text": [
      "c:\\Users\\lemin\\miniconda3\\envs\\ai1\\Lib\\site-packages\\sklearn\\cluster\\_kmeans.py:1446: UserWarning: KMeans is known to have a memory leak on Windows with MKL, when there are less chunks than available threads. You can avoid it by setting the environment variable OMP_NUM_THREADS=1.\n",
      "  warnings.warn(\n",
      "c:\\Users\\lemin\\miniconda3\\envs\\ai1\\Lib\\site-packages\\sklearn\\cluster\\_kmeans.py:1446: UserWarning: KMeans is known to have a memory leak on Windows with MKL, when there are less chunks than available threads. You can avoid it by setting the environment variable OMP_NUM_THREADS=1.\n",
      "  warnings.warn(\n"
     ]
    },
    {
     "name": "stdout",
     "output_type": "stream",
     "text": [
      "[0.62637363 0.37362637]\n",
      "7\n",
      "Number of Clusters: 6, Cross-Validated Accuracy: 0.9142857142857143\n",
      "[0.62637363 0.37362637]\n"
     ]
    },
    {
     "name": "stderr",
     "output_type": "stream",
     "text": [
      "c:\\Users\\lemin\\miniconda3\\envs\\ai1\\Lib\\site-packages\\sklearn\\cluster\\_kmeans.py:1446: UserWarning: KMeans is known to have a memory leak on Windows with MKL, when there are less chunks than available threads. You can avoid it by setting the environment variable OMP_NUM_THREADS=1.\n",
      "  warnings.warn(\n",
      "c:\\Users\\lemin\\miniconda3\\envs\\ai1\\Lib\\site-packages\\sklearn\\cluster\\_kmeans.py:1446: UserWarning: KMeans is known to have a memory leak on Windows with MKL, when there are less chunks than available threads. You can avoid it by setting the environment variable OMP_NUM_THREADS=1.\n",
      "  warnings.warn(\n"
     ]
    },
    {
     "name": "stdout",
     "output_type": "stream",
     "text": [
      "6\n"
     ]
    },
    {
     "name": "stderr",
     "output_type": "stream",
     "text": [
      "c:\\Users\\lemin\\miniconda3\\envs\\ai1\\Lib\\site-packages\\sklearn\\cluster\\_kmeans.py:1446: UserWarning: KMeans is known to have a memory leak on Windows with MKL, when there are less chunks than available threads. You can avoid it by setting the environment variable OMP_NUM_THREADS=1.\n",
      "  warnings.warn(\n",
      "c:\\Users\\lemin\\miniconda3\\envs\\ai1\\Lib\\site-packages\\sklearn\\cluster\\_kmeans.py:1446: UserWarning: KMeans is known to have a memory leak on Windows with MKL, when there are less chunks than available threads. You can avoid it by setting the environment variable OMP_NUM_THREADS=1.\n",
      "  warnings.warn(\n"
     ]
    },
    {
     "name": "stdout",
     "output_type": "stream",
     "text": [
      "[0.62637363 0.37362637]\n",
      "7\n"
     ]
    },
    {
     "name": "stderr",
     "output_type": "stream",
     "text": [
      "c:\\Users\\lemin\\miniconda3\\envs\\ai1\\Lib\\site-packages\\sklearn\\cluster\\_kmeans.py:1446: UserWarning: KMeans is known to have a memory leak on Windows with MKL, when there are less chunks than available threads. You can avoid it by setting the environment variable OMP_NUM_THREADS=1.\n",
      "  warnings.warn(\n",
      "c:\\Users\\lemin\\miniconda3\\envs\\ai1\\Lib\\site-packages\\sklearn\\cluster\\_kmeans.py:1446: UserWarning: KMeans is known to have a memory leak on Windows with MKL, when there are less chunks than available threads. You can avoid it by setting the environment variable OMP_NUM_THREADS=1.\n",
      "  warnings.warn(\n"
     ]
    },
    {
     "name": "stdout",
     "output_type": "stream",
     "text": [
      "[0.62637363 0.37362637]\n",
      "8\n"
     ]
    },
    {
     "name": "stderr",
     "output_type": "stream",
     "text": [
      "c:\\Users\\lemin\\miniconda3\\envs\\ai1\\Lib\\site-packages\\sklearn\\cluster\\_kmeans.py:1446: UserWarning: KMeans is known to have a memory leak on Windows with MKL, when there are less chunks than available threads. You can avoid it by setting the environment variable OMP_NUM_THREADS=1.\n",
      "  warnings.warn(\n",
      "c:\\Users\\lemin\\miniconda3\\envs\\ai1\\Lib\\site-packages\\sklearn\\cluster\\_kmeans.py:1446: UserWarning: KMeans is known to have a memory leak on Windows with MKL, when there are less chunks than available threads. You can avoid it by setting the environment variable OMP_NUM_THREADS=1.\n",
      "  warnings.warn(\n"
     ]
    },
    {
     "name": "stdout",
     "output_type": "stream",
     "text": [
      "[0.62637363 0.37362637]\n",
      "7\n"
     ]
    },
    {
     "name": "stderr",
     "output_type": "stream",
     "text": [
      "c:\\Users\\lemin\\miniconda3\\envs\\ai1\\Lib\\site-packages\\sklearn\\cluster\\_kmeans.py:1446: UserWarning: KMeans is known to have a memory leak on Windows with MKL, when there are less chunks than available threads. You can avoid it by setting the environment variable OMP_NUM_THREADS=1.\n",
      "  warnings.warn(\n",
      "c:\\Users\\lemin\\miniconda3\\envs\\ai1\\Lib\\site-packages\\sklearn\\cluster\\_kmeans.py:1446: UserWarning: KMeans is known to have a memory leak on Windows with MKL, when there are less chunks than available threads. You can avoid it by setting the environment variable OMP_NUM_THREADS=1.\n",
      "  warnings.warn(\n"
     ]
    },
    {
     "name": "stdout",
     "output_type": "stream",
     "text": [
      "[0.62637363 0.37362637]\n",
      "6\n",
      "Number of Clusters: 7, Cross-Validated Accuracy: 0.8901098901098902\n",
      "[0.62637363 0.37362637]\n"
     ]
    },
    {
     "name": "stderr",
     "output_type": "stream",
     "text": [
      "c:\\Users\\lemin\\miniconda3\\envs\\ai1\\Lib\\site-packages\\sklearn\\cluster\\_kmeans.py:1446: UserWarning: KMeans is known to have a memory leak on Windows with MKL, when there are less chunks than available threads. You can avoid it by setting the environment variable OMP_NUM_THREADS=1.\n",
      "  warnings.warn(\n",
      "c:\\Users\\lemin\\miniconda3\\envs\\ai1\\Lib\\site-packages\\sklearn\\cluster\\_kmeans.py:1446: UserWarning: KMeans is known to have a memory leak on Windows with MKL, when there are less chunks than available threads. You can avoid it by setting the environment variable OMP_NUM_THREADS=1.\n",
      "  warnings.warn(\n"
     ]
    },
    {
     "name": "stdout",
     "output_type": "stream",
     "text": [
      "9\n"
     ]
    },
    {
     "name": "stderr",
     "output_type": "stream",
     "text": [
      "c:\\Users\\lemin\\miniconda3\\envs\\ai1\\Lib\\site-packages\\sklearn\\cluster\\_kmeans.py:1446: UserWarning: KMeans is known to have a memory leak on Windows with MKL, when there are less chunks than available threads. You can avoid it by setting the environment variable OMP_NUM_THREADS=1.\n",
      "  warnings.warn(\n",
      "c:\\Users\\lemin\\miniconda3\\envs\\ai1\\Lib\\site-packages\\sklearn\\cluster\\_kmeans.py:1446: UserWarning: KMeans is known to have a memory leak on Windows with MKL, when there are less chunks than available threads. You can avoid it by setting the environment variable OMP_NUM_THREADS=1.\n",
      "  warnings.warn(\n"
     ]
    },
    {
     "name": "stdout",
     "output_type": "stream",
     "text": [
      "[0.62637363 0.37362637]\n",
      "9\n"
     ]
    },
    {
     "name": "stderr",
     "output_type": "stream",
     "text": [
      "c:\\Users\\lemin\\miniconda3\\envs\\ai1\\Lib\\site-packages\\sklearn\\cluster\\_kmeans.py:1446: UserWarning: KMeans is known to have a memory leak on Windows with MKL, when there are less chunks than available threads. You can avoid it by setting the environment variable OMP_NUM_THREADS=1.\n",
      "  warnings.warn(\n",
      "c:\\Users\\lemin\\miniconda3\\envs\\ai1\\Lib\\site-packages\\sklearn\\cluster\\_kmeans.py:1446: UserWarning: KMeans is known to have a memory leak on Windows with MKL, when there are less chunks than available threads. You can avoid it by setting the environment variable OMP_NUM_THREADS=1.\n",
      "  warnings.warn(\n"
     ]
    },
    {
     "name": "stdout",
     "output_type": "stream",
     "text": [
      "[0.62637363 0.37362637]\n",
      "5\n"
     ]
    },
    {
     "name": "stderr",
     "output_type": "stream",
     "text": [
      "c:\\Users\\lemin\\miniconda3\\envs\\ai1\\Lib\\site-packages\\sklearn\\cluster\\_kmeans.py:1446: UserWarning: KMeans is known to have a memory leak on Windows with MKL, when there are less chunks than available threads. You can avoid it by setting the environment variable OMP_NUM_THREADS=1.\n",
      "  warnings.warn(\n",
      "c:\\Users\\lemin\\miniconda3\\envs\\ai1\\Lib\\site-packages\\sklearn\\cluster\\_kmeans.py:1446: UserWarning: KMeans is known to have a memory leak on Windows with MKL, when there are less chunks than available threads. You can avoid it by setting the environment variable OMP_NUM_THREADS=1.\n",
      "  warnings.warn(\n"
     ]
    },
    {
     "name": "stdout",
     "output_type": "stream",
     "text": [
      "[0.62637363 0.37362637]\n",
      "14\n"
     ]
    },
    {
     "name": "stderr",
     "output_type": "stream",
     "text": [
      "c:\\Users\\lemin\\miniconda3\\envs\\ai1\\Lib\\site-packages\\sklearn\\cluster\\_kmeans.py:1446: UserWarning: KMeans is known to have a memory leak on Windows with MKL, when there are less chunks than available threads. You can avoid it by setting the environment variable OMP_NUM_THREADS=1.\n",
      "  warnings.warn(\n",
      "c:\\Users\\lemin\\miniconda3\\envs\\ai1\\Lib\\site-packages\\sklearn\\cluster\\_kmeans.py:1446: UserWarning: KMeans is known to have a memory leak on Windows with MKL, when there are less chunks than available threads. You can avoid it by setting the environment variable OMP_NUM_THREADS=1.\n",
      "  warnings.warn(\n"
     ]
    },
    {
     "name": "stdout",
     "output_type": "stream",
     "text": [
      "[0.62637363 0.37362637]\n",
      "6\n",
      "Number of Clusters: 8, Cross-Validated Accuracy: 0.810989010989011\n",
      "[0.62637363 0.37362637]\n"
     ]
    },
    {
     "name": "stderr",
     "output_type": "stream",
     "text": [
      "c:\\Users\\lemin\\miniconda3\\envs\\ai1\\Lib\\site-packages\\sklearn\\cluster\\_kmeans.py:1446: UserWarning: KMeans is known to have a memory leak on Windows with MKL, when there are less chunks than available threads. You can avoid it by setting the environment variable OMP_NUM_THREADS=1.\n",
      "  warnings.warn(\n",
      "c:\\Users\\lemin\\miniconda3\\envs\\ai1\\Lib\\site-packages\\sklearn\\cluster\\_kmeans.py:1446: UserWarning: KMeans is known to have a memory leak on Windows with MKL, when there are less chunks than available threads. You can avoid it by setting the environment variable OMP_NUM_THREADS=1.\n",
      "  warnings.warn(\n"
     ]
    },
    {
     "name": "stdout",
     "output_type": "stream",
     "text": [
      "6\n"
     ]
    },
    {
     "name": "stderr",
     "output_type": "stream",
     "text": [
      "c:\\Users\\lemin\\miniconda3\\envs\\ai1\\Lib\\site-packages\\sklearn\\cluster\\_kmeans.py:1446: UserWarning: KMeans is known to have a memory leak on Windows with MKL, when there are less chunks than available threads. You can avoid it by setting the environment variable OMP_NUM_THREADS=1.\n",
      "  warnings.warn(\n",
      "c:\\Users\\lemin\\miniconda3\\envs\\ai1\\Lib\\site-packages\\sklearn\\cluster\\_kmeans.py:1446: UserWarning: KMeans is known to have a memory leak on Windows with MKL, when there are less chunks than available threads. You can avoid it by setting the environment variable OMP_NUM_THREADS=1.\n",
      "  warnings.warn(\n"
     ]
    },
    {
     "name": "stdout",
     "output_type": "stream",
     "text": [
      "[0.62637363 0.37362637]\n",
      "6\n"
     ]
    },
    {
     "name": "stderr",
     "output_type": "stream",
     "text": [
      "c:\\Users\\lemin\\miniconda3\\envs\\ai1\\Lib\\site-packages\\sklearn\\cluster\\_kmeans.py:1446: UserWarning: KMeans is known to have a memory leak on Windows with MKL, when there are less chunks than available threads. You can avoid it by setting the environment variable OMP_NUM_THREADS=1.\n",
      "  warnings.warn(\n",
      "c:\\Users\\lemin\\miniconda3\\envs\\ai1\\Lib\\site-packages\\sklearn\\cluster\\_kmeans.py:1446: UserWarning: KMeans is known to have a memory leak on Windows with MKL, when there are less chunks than available threads. You can avoid it by setting the environment variable OMP_NUM_THREADS=1.\n",
      "  warnings.warn(\n"
     ]
    },
    {
     "name": "stdout",
     "output_type": "stream",
     "text": [
      "[0.62637363 0.37362637]\n",
      "5\n"
     ]
    },
    {
     "name": "stderr",
     "output_type": "stream",
     "text": [
      "c:\\Users\\lemin\\miniconda3\\envs\\ai1\\Lib\\site-packages\\sklearn\\cluster\\_kmeans.py:1446: UserWarning: KMeans is known to have a memory leak on Windows with MKL, when there are less chunks than available threads. You can avoid it by setting the environment variable OMP_NUM_THREADS=1.\n",
      "  warnings.warn(\n",
      "c:\\Users\\lemin\\miniconda3\\envs\\ai1\\Lib\\site-packages\\sklearn\\cluster\\_kmeans.py:1446: UserWarning: KMeans is known to have a memory leak on Windows with MKL, when there are less chunks than available threads. You can avoid it by setting the environment variable OMP_NUM_THREADS=1.\n",
      "  warnings.warn(\n"
     ]
    },
    {
     "name": "stdout",
     "output_type": "stream",
     "text": [
      "[0.62637363 0.37362637]\n",
      "5\n"
     ]
    },
    {
     "name": "stderr",
     "output_type": "stream",
     "text": [
      "c:\\Users\\lemin\\miniconda3\\envs\\ai1\\Lib\\site-packages\\sklearn\\cluster\\_kmeans.py:1446: UserWarning: KMeans is known to have a memory leak on Windows with MKL, when there are less chunks than available threads. You can avoid it by setting the environment variable OMP_NUM_THREADS=1.\n",
      "  warnings.warn(\n",
      "c:\\Users\\lemin\\miniconda3\\envs\\ai1\\Lib\\site-packages\\sklearn\\cluster\\_kmeans.py:1446: UserWarning: KMeans is known to have a memory leak on Windows with MKL, when there are less chunks than available threads. You can avoid it by setting the environment variable OMP_NUM_THREADS=1.\n",
      "  warnings.warn(\n"
     ]
    },
    {
     "name": "stdout",
     "output_type": "stream",
     "text": [
      "[0.62637363 0.37362637]\n",
      "6\n",
      "Number of Clusters: 9, Cross-Validated Accuracy: 0.6373626373626373\n",
      "[0.62637363 0.37362637]\n"
     ]
    },
    {
     "name": "stderr",
     "output_type": "stream",
     "text": [
      "c:\\Users\\lemin\\miniconda3\\envs\\ai1\\Lib\\site-packages\\sklearn\\cluster\\_kmeans.py:1446: UserWarning: KMeans is known to have a memory leak on Windows with MKL, when there are less chunks than available threads. You can avoid it by setting the environment variable OMP_NUM_THREADS=1.\n",
      "  warnings.warn(\n",
      "c:\\Users\\lemin\\miniconda3\\envs\\ai1\\Lib\\site-packages\\sklearn\\cluster\\_kmeans.py:1446: UserWarning: KMeans is known to have a memory leak on Windows with MKL, when there are less chunks than available threads. You can avoid it by setting the environment variable OMP_NUM_THREADS=1.\n",
      "  warnings.warn(\n"
     ]
    },
    {
     "name": "stdout",
     "output_type": "stream",
     "text": [
      "5\n"
     ]
    },
    {
     "name": "stderr",
     "output_type": "stream",
     "text": [
      "c:\\Users\\lemin\\miniconda3\\envs\\ai1\\Lib\\site-packages\\sklearn\\cluster\\_kmeans.py:1446: UserWarning: KMeans is known to have a memory leak on Windows with MKL, when there are less chunks than available threads. You can avoid it by setting the environment variable OMP_NUM_THREADS=1.\n",
      "  warnings.warn(\n",
      "c:\\Users\\lemin\\miniconda3\\envs\\ai1\\Lib\\site-packages\\sklearn\\cluster\\_kmeans.py:1446: UserWarning: KMeans is known to have a memory leak on Windows with MKL, when there are less chunks than available threads. You can avoid it by setting the environment variable OMP_NUM_THREADS=1.\n",
      "  warnings.warn(\n"
     ]
    },
    {
     "name": "stdout",
     "output_type": "stream",
     "text": [
      "[0.62637363 0.37362637]\n",
      "5\n"
     ]
    },
    {
     "name": "stderr",
     "output_type": "stream",
     "text": [
      "c:\\Users\\lemin\\miniconda3\\envs\\ai1\\Lib\\site-packages\\sklearn\\cluster\\_kmeans.py:1446: UserWarning: KMeans is known to have a memory leak on Windows with MKL, when there are less chunks than available threads. You can avoid it by setting the environment variable OMP_NUM_THREADS=1.\n",
      "  warnings.warn(\n",
      "c:\\Users\\lemin\\miniconda3\\envs\\ai1\\Lib\\site-packages\\sklearn\\cluster\\_kmeans.py:1446: UserWarning: KMeans is known to have a memory leak on Windows with MKL, when there are less chunks than available threads. You can avoid it by setting the environment variable OMP_NUM_THREADS=1.\n",
      "  warnings.warn(\n"
     ]
    },
    {
     "name": "stdout",
     "output_type": "stream",
     "text": [
      "[0.62637363 0.37362637]\n",
      "4\n"
     ]
    },
    {
     "name": "stderr",
     "output_type": "stream",
     "text": [
      "c:\\Users\\lemin\\miniconda3\\envs\\ai1\\Lib\\site-packages\\sklearn\\cluster\\_kmeans.py:1446: UserWarning: KMeans is known to have a memory leak on Windows with MKL, when there are less chunks than available threads. You can avoid it by setting the environment variable OMP_NUM_THREADS=1.\n",
      "  warnings.warn(\n",
      "c:\\Users\\lemin\\miniconda3\\envs\\ai1\\Lib\\site-packages\\sklearn\\cluster\\_kmeans.py:1446: UserWarning: KMeans is known to have a memory leak on Windows with MKL, when there are less chunks than available threads. You can avoid it by setting the environment variable OMP_NUM_THREADS=1.\n",
      "  warnings.warn(\n"
     ]
    },
    {
     "name": "stdout",
     "output_type": "stream",
     "text": [
      "[0.62637363 0.37362637]\n",
      "5\n"
     ]
    },
    {
     "name": "stderr",
     "output_type": "stream",
     "text": [
      "c:\\Users\\lemin\\miniconda3\\envs\\ai1\\Lib\\site-packages\\sklearn\\cluster\\_kmeans.py:1446: UserWarning: KMeans is known to have a memory leak on Windows with MKL, when there are less chunks than available threads. You can avoid it by setting the environment variable OMP_NUM_THREADS=1.\n",
      "  warnings.warn(\n",
      "c:\\Users\\lemin\\miniconda3\\envs\\ai1\\Lib\\site-packages\\sklearn\\cluster\\_kmeans.py:1446: UserWarning: KMeans is known to have a memory leak on Windows with MKL, when there are less chunks than available threads. You can avoid it by setting the environment variable OMP_NUM_THREADS=1.\n",
      "  warnings.warn(\n"
     ]
    },
    {
     "name": "stdout",
     "output_type": "stream",
     "text": [
      "[0.62637363 0.37362637]\n",
      "4\n",
      "Number of Clusters: 10, Cross-Validated Accuracy: 0.6373626373626373\n"
     ]
    },
    {
     "data": {
      "image/png": "[encoded data removed]",
      "text/plain": [
       "<Figure size 800x600 with 1 Axes>"
      ]
     },
     "metadata": {},
     "output_type": "display_data"
    }
   ],
   "source": [
    "from sklearn.model_selection import cross_val_score\n",
    "\n",
    "\n",
    "\n",
    "# Assuming 'standardized_data' and 'labels_data' are defined\n",
    "X_train, X_test, y_train, y_test = train_test_split(standardized_data, labels_data, test_size=0.2, random_state=12345)\n",
    "\n",
    "max_num_clusters = 10\n",
    "accuracy_arr = []\n",
    "\n",
    "for num_cluster in range(1, max_num_clusters+1):\n",
    "    model = SupervisedGMM(num_clusters=num_cluster)\n",
    "    scores = cross_val_score(model, X_train, y_train, cv=5, scoring='accuracy')  # 5-fold cross-validation\n",
    "    mean_accuracy = np.mean(scores)\n",
    "    accuracy_arr.append(mean_accuracy)\n",
    "    print(f\"Number of Clusters: {num_cluster}, Cross-Validated Accuracy: {mean_accuracy}\")\n",
    "\n",
    "# Plotting the accuracies\n",
    "plt.figure(figsize=(8, 6))\n",
    "plt.plot(np.arange(1, max_num_clusters+1), accuracy_arr, marker='o')\n",
    "plt.title('Cross-Validated Model Accuracy vs Number of Subclasses')\n",
    "plt.xlabel('Number of Subclasses (Clusters)')\n",
    "plt.ylabel('Cross-Validated Accuracy')\n",
    "plt.xticks(np.arange(1, max_num_clusters+1))\n",
    "plt.grid(True)\n",
    "plt.show()"
   ]
  },
  {
   "cell_type": "code",
   "execution_count": 66,
   "metadata": {},
   "outputs": [
    {
     "name": "stderr",
     "output_type": "stream",
     "text": [
      "c:\\Users\\lemin\\miniconda3\\envs\\ai1\\Lib\\site-packages\\sklearn\\cluster\\_kmeans.py:1446: UserWarning: KMeans is known to have a memory leak on Windows with MKL, when there are less chunks than available threads. You can avoid it by setting the environment variable OMP_NUM_THREADS=1.\n",
      "  warnings.warn(\n",
      "c:\\Users\\lemin\\miniconda3\\envs\\ai1\\Lib\\site-packages\\sklearn\\cluster\\_kmeans.py:1446: UserWarning: KMeans is known to have a memory leak on Windows with MKL, when there are less chunks than available threads. You can avoid it by setting the environment variable OMP_NUM_THREADS=1.\n",
      "  warnings.warn(\n"
     ]
    },
    {
     "name": "stdout",
     "output_type": "stream",
     "text": [
      "[0.62637363 0.37362637]\n",
      "2\n"
     ]
    },
    {
     "name": "stderr",
     "output_type": "stream",
     "text": [
      "c:\\Users\\lemin\\miniconda3\\envs\\ai1\\Lib\\site-packages\\sklearn\\cluster\\_kmeans.py:1446: UserWarning: KMeans is known to have a memory leak on Windows with MKL, when there are less chunks than available threads. You can avoid it by setting the environment variable OMP_NUM_THREADS=1.\n",
      "  warnings.warn(\n",
      "c:\\Users\\lemin\\miniconda3\\envs\\ai1\\Lib\\site-packages\\sklearn\\cluster\\_kmeans.py:1446: UserWarning: KMeans is known to have a memory leak on Windows with MKL, when there are less chunks than available threads. You can avoid it by setting the environment variable OMP_NUM_THREADS=1.\n",
      "  warnings.warn(\n"
     ]
    },
    {
     "name": "stdout",
     "output_type": "stream",
     "text": [
      "[0.62637363 0.37362637]\n",
      "2\n"
     ]
    },
    {
     "name": "stderr",
     "output_type": "stream",
     "text": [
      "c:\\Users\\lemin\\miniconda3\\envs\\ai1\\Lib\\site-packages\\sklearn\\cluster\\_kmeans.py:1446: UserWarning: KMeans is known to have a memory leak on Windows with MKL, when there are less chunks than available threads. You can avoid it by setting the environment variable OMP_NUM_THREADS=1.\n",
      "  warnings.warn(\n",
      "c:\\Users\\lemin\\miniconda3\\envs\\ai1\\Lib\\site-packages\\sklearn\\cluster\\_kmeans.py:1446: UserWarning: KMeans is known to have a memory leak on Windows with MKL, when there are less chunks than available threads. You can avoid it by setting the environment variable OMP_NUM_THREADS=1.\n",
      "  warnings.warn(\n"
     ]
    },
    {
     "name": "stdout",
     "output_type": "stream",
     "text": [
      "[0.62637363 0.37362637]\n",
      "2\n"
     ]
    },
    {
     "name": "stderr",
     "output_type": "stream",
     "text": [
      "c:\\Users\\lemin\\miniconda3\\envs\\ai1\\Lib\\site-packages\\sklearn\\cluster\\_kmeans.py:1446: UserWarning: KMeans is known to have a memory leak on Windows with MKL, when there are less chunks than available threads. You can avoid it by setting the environment variable OMP_NUM_THREADS=1.\n",
      "  warnings.warn(\n",
      "c:\\Users\\lemin\\miniconda3\\envs\\ai1\\Lib\\site-packages\\sklearn\\cluster\\_kmeans.py:1446: UserWarning: KMeans is known to have a memory leak on Windows with MKL, when there are less chunks than available threads. You can avoid it by setting the environment variable OMP_NUM_THREADS=1.\n",
      "  warnings.warn(\n"
     ]
    },
    {
     "name": "stdout",
     "output_type": "stream",
     "text": [
      "[0.62637363 0.37362637]\n",
      "2\n"
     ]
    },
    {
     "name": "stderr",
     "output_type": "stream",
     "text": [
      "c:\\Users\\lemin\\miniconda3\\envs\\ai1\\Lib\\site-packages\\sklearn\\cluster\\_kmeans.py:1446: UserWarning: KMeans is known to have a memory leak on Windows with MKL, when there are less chunks than available threads. You can avoid it by setting the environment variable OMP_NUM_THREADS=1.\n",
      "  warnings.warn(\n",
      "c:\\Users\\lemin\\miniconda3\\envs\\ai1\\Lib\\site-packages\\sklearn\\cluster\\_kmeans.py:1446: UserWarning: KMeans is known to have a memory leak on Windows with MKL, when there are less chunks than available threads. You can avoid it by setting the environment variable OMP_NUM_THREADS=1.\n",
      "  warnings.warn(\n"
     ]
    },
    {
     "name": "stdout",
     "output_type": "stream",
     "text": [
      "[0.62637363 0.37362637]\n",
      "2\n",
      "Number of Clusters: 1, Cross-Validated Accuracy: 0.9516483516483516\n"
     ]
    },
    {
     "name": "stderr",
     "output_type": "stream",
     "text": [
      "c:\\Users\\lemin\\miniconda3\\envs\\ai1\\Lib\\site-packages\\sklearn\\cluster\\_kmeans.py:1446: UserWarning: KMeans is known to have a memory leak on Windows with MKL, when there are less chunks than available threads. You can avoid it by setting the environment variable OMP_NUM_THREADS=1.\n",
      "  warnings.warn(\n",
      "c:\\Users\\lemin\\miniconda3\\envs\\ai1\\Lib\\site-packages\\sklearn\\cluster\\_kmeans.py:1446: UserWarning: KMeans is known to have a memory leak on Windows with MKL, when there are less chunks than available threads. You can avoid it by setting the environment variable OMP_NUM_THREADS=1.\n",
      "  warnings.warn(\n"
     ]
    },
    {
     "name": "stdout",
     "output_type": "stream",
     "text": [
      "[0.62637363 0.37362637]\n",
      "25\n"
     ]
    },
    {
     "name": "stderr",
     "output_type": "stream",
     "text": [
      "c:\\Users\\lemin\\miniconda3\\envs\\ai1\\Lib\\site-packages\\sklearn\\cluster\\_kmeans.py:1446: UserWarning: KMeans is known to have a memory leak on Windows with MKL, when there are less chunks than available threads. You can avoid it by setting the environment variable OMP_NUM_THREADS=1.\n",
      "  warnings.warn(\n",
      "c:\\Users\\lemin\\miniconda3\\envs\\ai1\\Lib\\site-packages\\sklearn\\cluster\\_kmeans.py:1446: UserWarning: KMeans is known to have a memory leak on Windows with MKL, when there are less chunks than available threads. You can avoid it by setting the environment variable OMP_NUM_THREADS=1.\n",
      "  warnings.warn(\n"
     ]
    },
    {
     "name": "stdout",
     "output_type": "stream",
     "text": [
      "[0.62637363 0.37362637]\n",
      "18\n"
     ]
    },
    {
     "name": "stderr",
     "output_type": "stream",
     "text": [
      "c:\\Users\\lemin\\miniconda3\\envs\\ai1\\Lib\\site-packages\\sklearn\\cluster\\_kmeans.py:1446: UserWarning: KMeans is known to have a memory leak on Windows with MKL, when there are less chunks than available threads. You can avoid it by setting the environment variable OMP_NUM_THREADS=1.\n",
      "  warnings.warn(\n",
      "c:\\Users\\lemin\\miniconda3\\envs\\ai1\\Lib\\site-packages\\sklearn\\cluster\\_kmeans.py:1446: UserWarning: KMeans is known to have a memory leak on Windows with MKL, when there are less chunks than available threads. You can avoid it by setting the environment variable OMP_NUM_THREADS=1.\n",
      "  warnings.warn(\n"
     ]
    },
    {
     "name": "stdout",
     "output_type": "stream",
     "text": [
      "[0.62637363 0.37362637]\n",
      "40\n"
     ]
    },
    {
     "name": "stderr",
     "output_type": "stream",
     "text": [
      "c:\\Users\\lemin\\miniconda3\\envs\\ai1\\Lib\\site-packages\\sklearn\\cluster\\_kmeans.py:1446: UserWarning: KMeans is known to have a memory leak on Windows with MKL, when there are less chunks than available threads. You can avoid it by setting the environment variable OMP_NUM_THREADS=1.\n",
      "  warnings.warn(\n",
      "c:\\Users\\lemin\\miniconda3\\envs\\ai1\\Lib\\site-packages\\sklearn\\cluster\\_kmeans.py:1446: UserWarning: KMeans is known to have a memory leak on Windows with MKL, when there are less chunks than available threads. You can avoid it by setting the environment variable OMP_NUM_THREADS=1.\n",
      "  warnings.warn(\n"
     ]
    },
    {
     "name": "stdout",
     "output_type": "stream",
     "text": [
      "[0.62637363 0.37362637]\n",
      "12\n"
     ]
    },
    {
     "name": "stderr",
     "output_type": "stream",
     "text": [
      "c:\\Users\\lemin\\miniconda3\\envs\\ai1\\Lib\\site-packages\\sklearn\\cluster\\_kmeans.py:1446: UserWarning: KMeans is known to have a memory leak on Windows with MKL, when there are less chunks than available threads. You can avoid it by setting the environment variable OMP_NUM_THREADS=1.\n",
      "  warnings.warn(\n",
      "c:\\Users\\lemin\\miniconda3\\envs\\ai1\\Lib\\site-packages\\sklearn\\cluster\\_kmeans.py:1446: UserWarning: KMeans is known to have a memory leak on Windows with MKL, when there are less chunks than available threads. You can avoid it by setting the environment variable OMP_NUM_THREADS=1.\n",
      "  warnings.warn(\n"
     ]
    },
    {
     "name": "stdout",
     "output_type": "stream",
     "text": [
      "[0.62637363 0.37362637]\n",
      "50\n",
      "Number of Clusters: 2, Cross-Validated Accuracy: 0.9428571428571428\n",
      "[0.62637363 0.37362637]\n"
     ]
    },
    {
     "name": "stderr",
     "output_type": "stream",
     "text": [
      "c:\\Users\\lemin\\miniconda3\\envs\\ai1\\Lib\\site-packages\\sklearn\\cluster\\_kmeans.py:1446: UserWarning: KMeans is known to have a memory leak on Windows with MKL, when there are less chunks than available threads. You can avoid it by setting the environment variable OMP_NUM_THREADS=1.\n",
      "  warnings.warn(\n",
      "c:\\Users\\lemin\\miniconda3\\envs\\ai1\\Lib\\site-packages\\sklearn\\cluster\\_kmeans.py:1446: UserWarning: KMeans is known to have a memory leak on Windows with MKL, when there are less chunks than available threads. You can avoid it by setting the environment variable OMP_NUM_THREADS=1.\n",
      "  warnings.warn(\n"
     ]
    },
    {
     "name": "stdout",
     "output_type": "stream",
     "text": [
      "23\n"
     ]
    },
    {
     "name": "stderr",
     "output_type": "stream",
     "text": [
      "c:\\Users\\lemin\\miniconda3\\envs\\ai1\\Lib\\site-packages\\sklearn\\cluster\\_kmeans.py:1446: UserWarning: KMeans is known to have a memory leak on Windows with MKL, when there are less chunks than available threads. You can avoid it by setting the environment variable OMP_NUM_THREADS=1.\n",
      "  warnings.warn(\n",
      "c:\\Users\\lemin\\miniconda3\\envs\\ai1\\Lib\\site-packages\\sklearn\\cluster\\_kmeans.py:1446: UserWarning: KMeans is known to have a memory leak on Windows with MKL, when there are less chunks than available threads. You can avoid it by setting the environment variable OMP_NUM_THREADS=1.\n",
      "  warnings.warn(\n"
     ]
    },
    {
     "name": "stdout",
     "output_type": "stream",
     "text": [
      "[0.62637363 0.37362637]\n",
      "19\n"
     ]
    },
    {
     "name": "stderr",
     "output_type": "stream",
     "text": [
      "c:\\Users\\lemin\\miniconda3\\envs\\ai1\\Lib\\site-packages\\sklearn\\cluster\\_kmeans.py:1446: UserWarning: KMeans is known to have a memory leak on Windows with MKL, when there are less chunks than available threads. You can avoid it by setting the environment variable OMP_NUM_THREADS=1.\n",
      "  warnings.warn(\n",
      "c:\\Users\\lemin\\miniconda3\\envs\\ai1\\Lib\\site-packages\\sklearn\\cluster\\_kmeans.py:1446: UserWarning: KMeans is known to have a memory leak on Windows with MKL, when there are less chunks than available threads. You can avoid it by setting the environment variable OMP_NUM_THREADS=1.\n",
      "  warnings.warn(\n"
     ]
    },
    {
     "name": "stdout",
     "output_type": "stream",
     "text": [
      "[0.62637363 0.37362637]\n",
      "14\n"
     ]
    },
    {
     "name": "stderr",
     "output_type": "stream",
     "text": [
      "c:\\Users\\lemin\\miniconda3\\envs\\ai1\\Lib\\site-packages\\sklearn\\cluster\\_kmeans.py:1446: UserWarning: KMeans is known to have a memory leak on Windows with MKL, when there are less chunks than available threads. You can avoid it by setting the environment variable OMP_NUM_THREADS=1.\n",
      "  warnings.warn(\n",
      "c:\\Users\\lemin\\miniconda3\\envs\\ai1\\Lib\\site-packages\\sklearn\\cluster\\_kmeans.py:1446: UserWarning: KMeans is known to have a memory leak on Windows with MKL, when there are less chunks than available threads. You can avoid it by setting the environment variable OMP_NUM_THREADS=1.\n",
      "  warnings.warn(\n"
     ]
    },
    {
     "name": "stdout",
     "output_type": "stream",
     "text": [
      "[0.62637363 0.37362637]\n",
      "14\n"
     ]
    },
    {
     "name": "stderr",
     "output_type": "stream",
     "text": [
      "c:\\Users\\lemin\\miniconda3\\envs\\ai1\\Lib\\site-packages\\sklearn\\cluster\\_kmeans.py:1446: UserWarning: KMeans is known to have a memory leak on Windows with MKL, when there are less chunks than available threads. You can avoid it by setting the environment variable OMP_NUM_THREADS=1.\n",
      "  warnings.warn(\n",
      "c:\\Users\\lemin\\miniconda3\\envs\\ai1\\Lib\\site-packages\\sklearn\\cluster\\_kmeans.py:1446: UserWarning: KMeans is known to have a memory leak on Windows with MKL, when there are less chunks than available threads. You can avoid it by setting the environment variable OMP_NUM_THREADS=1.\n",
      "  warnings.warn(\n"
     ]
    },
    {
     "name": "stdout",
     "output_type": "stream",
     "text": [
      "[0.62637363 0.37362637]\n",
      "10\n",
      "Number of Clusters: 3, Cross-Validated Accuracy: 0.9340659340659341\n",
      "[0.62637363 0.37362637]\n"
     ]
    },
    {
     "name": "stderr",
     "output_type": "stream",
     "text": [
      "c:\\Users\\lemin\\miniconda3\\envs\\ai1\\Lib\\site-packages\\sklearn\\cluster\\_kmeans.py:1446: UserWarning: KMeans is known to have a memory leak on Windows with MKL, when there are less chunks than available threads. You can avoid it by setting the environment variable OMP_NUM_THREADS=1.\n",
      "  warnings.warn(\n",
      "c:\\Users\\lemin\\miniconda3\\envs\\ai1\\Lib\\site-packages\\sklearn\\cluster\\_kmeans.py:1446: UserWarning: KMeans is known to have a memory leak on Windows with MKL, when there are less chunks than available threads. You can avoid it by setting the environment variable OMP_NUM_THREADS=1.\n",
      "  warnings.warn(\n"
     ]
    },
    {
     "name": "stdout",
     "output_type": "stream",
     "text": [
      "22\n"
     ]
    },
    {
     "name": "stderr",
     "output_type": "stream",
     "text": [
      "c:\\Users\\lemin\\miniconda3\\envs\\ai1\\Lib\\site-packages\\sklearn\\cluster\\_kmeans.py:1446: UserWarning: KMeans is known to have a memory leak on Windows with MKL, when there are less chunks than available threads. You can avoid it by setting the environment variable OMP_NUM_THREADS=1.\n",
      "  warnings.warn(\n",
      "c:\\Users\\lemin\\miniconda3\\envs\\ai1\\Lib\\site-packages\\sklearn\\cluster\\_kmeans.py:1446: UserWarning: KMeans is known to have a memory leak on Windows with MKL, when there are less chunks than available threads. You can avoid it by setting the environment variable OMP_NUM_THREADS=1.\n",
      "  warnings.warn(\n"
     ]
    },
    {
     "name": "stdout",
     "output_type": "stream",
     "text": [
      "[0.62637363 0.37362637]\n",
      "13\n"
     ]
    },
    {
     "name": "stderr",
     "output_type": "stream",
     "text": [
      "c:\\Users\\lemin\\miniconda3\\envs\\ai1\\Lib\\site-packages\\sklearn\\cluster\\_kmeans.py:1446: UserWarning: KMeans is known to have a memory leak on Windows with MKL, when there are less chunks than available threads. You can avoid it by setting the environment variable OMP_NUM_THREADS=1.\n",
      "  warnings.warn(\n",
      "c:\\Users\\lemin\\miniconda3\\envs\\ai1\\Lib\\site-packages\\sklearn\\cluster\\_kmeans.py:1446: UserWarning: KMeans is known to have a memory leak on Windows with MKL, when there are less chunks than available threads. You can avoid it by setting the environment variable OMP_NUM_THREADS=1.\n",
      "  warnings.warn(\n"
     ]
    },
    {
     "name": "stdout",
     "output_type": "stream",
     "text": [
      "[0.62637363 0.37362637]\n",
      "18\n"
     ]
    },
    {
     "name": "stderr",
     "output_type": "stream",
     "text": [
      "c:\\Users\\lemin\\miniconda3\\envs\\ai1\\Lib\\site-packages\\sklearn\\cluster\\_kmeans.py:1446: UserWarning: KMeans is known to have a memory leak on Windows with MKL, when there are less chunks than available threads. You can avoid it by setting the environment variable OMP_NUM_THREADS=1.\n",
      "  warnings.warn(\n",
      "c:\\Users\\lemin\\miniconda3\\envs\\ai1\\Lib\\site-packages\\sklearn\\cluster\\_kmeans.py:1446: UserWarning: KMeans is known to have a memory leak on Windows with MKL, when there are less chunks than available threads. You can avoid it by setting the environment variable OMP_NUM_THREADS=1.\n",
      "  warnings.warn(\n"
     ]
    },
    {
     "name": "stdout",
     "output_type": "stream",
     "text": [
      "[0.62637363 0.37362637]\n",
      "11\n"
     ]
    },
    {
     "name": "stderr",
     "output_type": "stream",
     "text": [
      "c:\\Users\\lemin\\miniconda3\\envs\\ai1\\Lib\\site-packages\\sklearn\\cluster\\_kmeans.py:1446: UserWarning: KMeans is known to have a memory leak on Windows with MKL, when there are less chunks than available threads. You can avoid it by setting the environment variable OMP_NUM_THREADS=1.\n",
      "  warnings.warn(\n",
      "c:\\Users\\lemin\\miniconda3\\envs\\ai1\\Lib\\site-packages\\sklearn\\cluster\\_kmeans.py:1446: UserWarning: KMeans is known to have a memory leak on Windows with MKL, when there are less chunks than available threads. You can avoid it by setting the environment variable OMP_NUM_THREADS=1.\n",
      "  warnings.warn(\n"
     ]
    },
    {
     "name": "stdout",
     "output_type": "stream",
     "text": [
      "[0.62637363 0.37362637]\n",
      "23\n",
      "Number of Clusters: 4, Cross-Validated Accuracy: 0.9274725274725275\n",
      "[0.62637363 0.37362637]\n"
     ]
    },
    {
     "name": "stderr",
     "output_type": "stream",
     "text": [
      "c:\\Users\\lemin\\miniconda3\\envs\\ai1\\Lib\\site-packages\\sklearn\\cluster\\_kmeans.py:1446: UserWarning: KMeans is known to have a memory leak on Windows with MKL, when there are less chunks than available threads. You can avoid it by setting the environment variable OMP_NUM_THREADS=1.\n",
      "  warnings.warn(\n",
      "c:\\Users\\lemin\\miniconda3\\envs\\ai1\\Lib\\site-packages\\sklearn\\cluster\\_kmeans.py:1446: UserWarning: KMeans is known to have a memory leak on Windows with MKL, when there are less chunks than available threads. You can avoid it by setting the environment variable OMP_NUM_THREADS=1.\n",
      "  warnings.warn(\n"
     ]
    },
    {
     "name": "stdout",
     "output_type": "stream",
     "text": [
      "14\n"
     ]
    },
    {
     "name": "stderr",
     "output_type": "stream",
     "text": [
      "c:\\Users\\lemin\\miniconda3\\envs\\ai1\\Lib\\site-packages\\sklearn\\cluster\\_kmeans.py:1446: UserWarning: KMeans is known to have a memory leak on Windows with MKL, when there are less chunks than available threads. You can avoid it by setting the environment variable OMP_NUM_THREADS=1.\n",
      "  warnings.warn(\n",
      "c:\\Users\\lemin\\miniconda3\\envs\\ai1\\Lib\\site-packages\\sklearn\\cluster\\_kmeans.py:1446: UserWarning: KMeans is known to have a memory leak on Windows with MKL, when there are less chunks than available threads. You can avoid it by setting the environment variable OMP_NUM_THREADS=1.\n",
      "  warnings.warn(\n"
     ]
    },
    {
     "name": "stdout",
     "output_type": "stream",
     "text": [
      "[0.62637363 0.37362637]\n",
      "11\n"
     ]
    },
    {
     "name": "stderr",
     "output_type": "stream",
     "text": [
      "c:\\Users\\lemin\\miniconda3\\envs\\ai1\\Lib\\site-packages\\sklearn\\cluster\\_kmeans.py:1446: UserWarning: KMeans is known to have a memory leak on Windows with MKL, when there are less chunks than available threads. You can avoid it by setting the environment variable OMP_NUM_THREADS=1.\n",
      "  warnings.warn(\n",
      "c:\\Users\\lemin\\miniconda3\\envs\\ai1\\Lib\\site-packages\\sklearn\\cluster\\_kmeans.py:1446: UserWarning: KMeans is known to have a memory leak on Windows with MKL, when there are less chunks than available threads. You can avoid it by setting the environment variable OMP_NUM_THREADS=1.\n",
      "  warnings.warn(\n"
     ]
    },
    {
     "name": "stdout",
     "output_type": "stream",
     "text": [
      "[0.62637363 0.37362637]\n",
      "10\n"
     ]
    },
    {
     "name": "stderr",
     "output_type": "stream",
     "text": [
      "c:\\Users\\lemin\\miniconda3\\envs\\ai1\\Lib\\site-packages\\sklearn\\cluster\\_kmeans.py:1446: UserWarning: KMeans is known to have a memory leak on Windows with MKL, when there are less chunks than available threads. You can avoid it by setting the environment variable OMP_NUM_THREADS=1.\n",
      "  warnings.warn(\n",
      "c:\\Users\\lemin\\miniconda3\\envs\\ai1\\Lib\\site-packages\\sklearn\\cluster\\_kmeans.py:1446: UserWarning: KMeans is known to have a memory leak on Windows with MKL, when there are less chunks than available threads. You can avoid it by setting the environment variable OMP_NUM_THREADS=1.\n",
      "  warnings.warn(\n"
     ]
    },
    {
     "name": "stdout",
     "output_type": "stream",
     "text": [
      "[0.62637363 0.37362637]\n",
      "15\n"
     ]
    },
    {
     "name": "stderr",
     "output_type": "stream",
     "text": [
      "c:\\Users\\lemin\\miniconda3\\envs\\ai1\\Lib\\site-packages\\sklearn\\cluster\\_kmeans.py:1446: UserWarning: KMeans is known to have a memory leak on Windows with MKL, when there are less chunks than available threads. You can avoid it by setting the environment variable OMP_NUM_THREADS=1.\n",
      "  warnings.warn(\n",
      "c:\\Users\\lemin\\miniconda3\\envs\\ai1\\Lib\\site-packages\\sklearn\\cluster\\_kmeans.py:1446: UserWarning: KMeans is known to have a memory leak on Windows with MKL, when there are less chunks than available threads. You can avoid it by setting the environment variable OMP_NUM_THREADS=1.\n",
      "  warnings.warn(\n"
     ]
    },
    {
     "name": "stdout",
     "output_type": "stream",
     "text": [
      "[0.62637363 0.37362637]\n",
      "30\n",
      "Number of Clusters: 5, Cross-Validated Accuracy: 0.9362637362637363\n",
      "[0.62637363 0.37362637]\n"
     ]
    },
    {
     "name": "stderr",
     "output_type": "stream",
     "text": [
      "c:\\Users\\lemin\\miniconda3\\envs\\ai1\\Lib\\site-packages\\sklearn\\cluster\\_kmeans.py:1446: UserWarning: KMeans is known to have a memory leak on Windows with MKL, when there are less chunks than available threads. You can avoid it by setting the environment variable OMP_NUM_THREADS=1.\n",
      "  warnings.warn(\n",
      "c:\\Users\\lemin\\miniconda3\\envs\\ai1\\Lib\\site-packages\\sklearn\\cluster\\_kmeans.py:1446: UserWarning: KMeans is known to have a memory leak on Windows with MKL, when there are less chunks than available threads. You can avoid it by setting the environment variable OMP_NUM_THREADS=1.\n",
      "  warnings.warn(\n"
     ]
    },
    {
     "name": "stdout",
     "output_type": "stream",
     "text": [
      "6\n"
     ]
    },
    {
     "name": "stderr",
     "output_type": "stream",
     "text": [
      "c:\\Users\\lemin\\miniconda3\\envs\\ai1\\Lib\\site-packages\\sklearn\\cluster\\_kmeans.py:1446: UserWarning: KMeans is known to have a memory leak on Windows with MKL, when there are less chunks than available threads. You can avoid it by setting the environment variable OMP_NUM_THREADS=1.\n",
      "  warnings.warn(\n",
      "c:\\Users\\lemin\\miniconda3\\envs\\ai1\\Lib\\site-packages\\sklearn\\cluster\\_kmeans.py:1446: UserWarning: KMeans is known to have a memory leak on Windows with MKL, when there are less chunks than available threads. You can avoid it by setting the environment variable OMP_NUM_THREADS=1.\n",
      "  warnings.warn(\n"
     ]
    },
    {
     "name": "stdout",
     "output_type": "stream",
     "text": [
      "[0.62637363 0.37362637]\n",
      "20\n"
     ]
    },
    {
     "name": "stderr",
     "output_type": "stream",
     "text": [
      "c:\\Users\\lemin\\miniconda3\\envs\\ai1\\Lib\\site-packages\\sklearn\\cluster\\_kmeans.py:1446: UserWarning: KMeans is known to have a memory leak on Windows with MKL, when there are less chunks than available threads. You can avoid it by setting the environment variable OMP_NUM_THREADS=1.\n",
      "  warnings.warn(\n",
      "c:\\Users\\lemin\\miniconda3\\envs\\ai1\\Lib\\site-packages\\sklearn\\cluster\\_kmeans.py:1446: UserWarning: KMeans is known to have a memory leak on Windows with MKL, when there are less chunks than available threads. You can avoid it by setting the environment variable OMP_NUM_THREADS=1.\n",
      "  warnings.warn(\n"
     ]
    },
    {
     "name": "stdout",
     "output_type": "stream",
     "text": [
      "[0.62637363 0.37362637]\n",
      "7\n"
     ]
    },
    {
     "name": "stderr",
     "output_type": "stream",
     "text": [
      "c:\\Users\\lemin\\miniconda3\\envs\\ai1\\Lib\\site-packages\\sklearn\\cluster\\_kmeans.py:1446: UserWarning: KMeans is known to have a memory leak on Windows with MKL, when there are less chunks than available threads. You can avoid it by setting the environment variable OMP_NUM_THREADS=1.\n",
      "  warnings.warn(\n",
      "c:\\Users\\lemin\\miniconda3\\envs\\ai1\\Lib\\site-packages\\sklearn\\cluster\\_kmeans.py:1446: UserWarning: KMeans is known to have a memory leak on Windows with MKL, when there are less chunks than available threads. You can avoid it by setting the environment variable OMP_NUM_THREADS=1.\n",
      "  warnings.warn(\n"
     ]
    },
    {
     "name": "stdout",
     "output_type": "stream",
     "text": [
      "[0.62637363 0.37362637]\n",
      "8\n"
     ]
    },
    {
     "name": "stderr",
     "output_type": "stream",
     "text": [
      "c:\\Users\\lemin\\miniconda3\\envs\\ai1\\Lib\\site-packages\\sklearn\\cluster\\_kmeans.py:1446: UserWarning: KMeans is known to have a memory leak on Windows with MKL, when there are less chunks than available threads. You can avoid it by setting the environment variable OMP_NUM_THREADS=1.\n",
      "  warnings.warn(\n",
      "c:\\Users\\lemin\\miniconda3\\envs\\ai1\\Lib\\site-packages\\sklearn\\cluster\\_kmeans.py:1446: UserWarning: KMeans is known to have a memory leak on Windows with MKL, when there are less chunks than available threads. You can avoid it by setting the environment variable OMP_NUM_THREADS=1.\n",
      "  warnings.warn(\n"
     ]
    },
    {
     "name": "stdout",
     "output_type": "stream",
     "text": [
      "[0.62637363 0.37362637]\n",
      "7\n",
      "Number of Clusters: 6, Cross-Validated Accuracy: 0.9142857142857143\n",
      "[0.62637363 0.37362637]\n"
     ]
    },
    {
     "name": "stderr",
     "output_type": "stream",
     "text": [
      "c:\\Users\\lemin\\miniconda3\\envs\\ai1\\Lib\\site-packages\\sklearn\\cluster\\_kmeans.py:1446: UserWarning: KMeans is known to have a memory leak on Windows with MKL, when there are less chunks than available threads. You can avoid it by setting the environment variable OMP_NUM_THREADS=1.\n",
      "  warnings.warn(\n",
      "c:\\Users\\lemin\\miniconda3\\envs\\ai1\\Lib\\site-packages\\sklearn\\cluster\\_kmeans.py:1446: UserWarning: KMeans is known to have a memory leak on Windows with MKL, when there are less chunks than available threads. You can avoid it by setting the environment variable OMP_NUM_THREADS=1.\n",
      "  warnings.warn(\n"
     ]
    },
    {
     "name": "stdout",
     "output_type": "stream",
     "text": [
      "6\n"
     ]
    },
    {
     "name": "stderr",
     "output_type": "stream",
     "text": [
      "c:\\Users\\lemin\\miniconda3\\envs\\ai1\\Lib\\site-packages\\sklearn\\cluster\\_kmeans.py:1446: UserWarning: KMeans is known to have a memory leak on Windows with MKL, when there are less chunks than available threads. You can avoid it by setting the environment variable OMP_NUM_THREADS=1.\n",
      "  warnings.warn(\n",
      "c:\\Users\\lemin\\miniconda3\\envs\\ai1\\Lib\\site-packages\\sklearn\\cluster\\_kmeans.py:1446: UserWarning: KMeans is known to have a memory leak on Windows with MKL, when there are less chunks than available threads. You can avoid it by setting the environment variable OMP_NUM_THREADS=1.\n",
      "  warnings.warn(\n"
     ]
    },
    {
     "name": "stdout",
     "output_type": "stream",
     "text": [
      "[0.62637363 0.37362637]\n",
      "7\n"
     ]
    },
    {
     "name": "stderr",
     "output_type": "stream",
     "text": [
      "c:\\Users\\lemin\\miniconda3\\envs\\ai1\\Lib\\site-packages\\sklearn\\cluster\\_kmeans.py:1446: UserWarning: KMeans is known to have a memory leak on Windows with MKL, when there are less chunks than available threads. You can avoid it by setting the environment variable OMP_NUM_THREADS=1.\n",
      "  warnings.warn(\n",
      "c:\\Users\\lemin\\miniconda3\\envs\\ai1\\Lib\\site-packages\\sklearn\\cluster\\_kmeans.py:1446: UserWarning: KMeans is known to have a memory leak on Windows with MKL, when there are less chunks than available threads. You can avoid it by setting the environment variable OMP_NUM_THREADS=1.\n",
      "  warnings.warn(\n"
     ]
    },
    {
     "name": "stdout",
     "output_type": "stream",
     "text": [
      "[0.62637363 0.37362637]\n",
      "8\n"
     ]
    },
    {
     "name": "stderr",
     "output_type": "stream",
     "text": [
      "c:\\Users\\lemin\\miniconda3\\envs\\ai1\\Lib\\site-packages\\sklearn\\cluster\\_kmeans.py:1446: UserWarning: KMeans is known to have a memory leak on Windows with MKL, when there are less chunks than available threads. You can avoid it by setting the environment variable OMP_NUM_THREADS=1.\n",
      "  warnings.warn(\n",
      "c:\\Users\\lemin\\miniconda3\\envs\\ai1\\Lib\\site-packages\\sklearn\\cluster\\_kmeans.py:1446: UserWarning: KMeans is known to have a memory leak on Windows with MKL, when there are less chunks than available threads. You can avoid it by setting the environment variable OMP_NUM_THREADS=1.\n",
      "  warnings.warn(\n"
     ]
    },
    {
     "name": "stdout",
     "output_type": "stream",
     "text": [
      "[0.62637363 0.37362637]\n",
      "7\n"
     ]
    },
    {
     "name": "stderr",
     "output_type": "stream",
     "text": [
      "c:\\Users\\lemin\\miniconda3\\envs\\ai1\\Lib\\site-packages\\sklearn\\cluster\\_kmeans.py:1446: UserWarning: KMeans is known to have a memory leak on Windows with MKL, when there are less chunks than available threads. You can avoid it by setting the environment variable OMP_NUM_THREADS=1.\n",
      "  warnings.warn(\n",
      "c:\\Users\\lemin\\miniconda3\\envs\\ai1\\Lib\\site-packages\\sklearn\\cluster\\_kmeans.py:1446: UserWarning: KMeans is known to have a memory leak on Windows with MKL, when there are less chunks than available threads. You can avoid it by setting the environment variable OMP_NUM_THREADS=1.\n",
      "  warnings.warn(\n"
     ]
    },
    {
     "name": "stdout",
     "output_type": "stream",
     "text": [
      "[0.62637363 0.37362637]\n",
      "6\n",
      "Number of Clusters: 7, Cross-Validated Accuracy: 0.8901098901098902\n",
      "[0.62637363 0.37362637]\n"
     ]
    },
    {
     "name": "stderr",
     "output_type": "stream",
     "text": [
      "c:\\Users\\lemin\\miniconda3\\envs\\ai1\\Lib\\site-packages\\sklearn\\cluster\\_kmeans.py:1446: UserWarning: KMeans is known to have a memory leak on Windows with MKL, when there are less chunks than available threads. You can avoid it by setting the environment variable OMP_NUM_THREADS=1.\n",
      "  warnings.warn(\n",
      "c:\\Users\\lemin\\miniconda3\\envs\\ai1\\Lib\\site-packages\\sklearn\\cluster\\_kmeans.py:1446: UserWarning: KMeans is known to have a memory leak on Windows with MKL, when there are less chunks than available threads. You can avoid it by setting the environment variable OMP_NUM_THREADS=1.\n",
      "  warnings.warn(\n"
     ]
    },
    {
     "name": "stdout",
     "output_type": "stream",
     "text": [
      "9\n"
     ]
    },
    {
     "name": "stderr",
     "output_type": "stream",
     "text": [
      "c:\\Users\\lemin\\miniconda3\\envs\\ai1\\Lib\\site-packages\\sklearn\\cluster\\_kmeans.py:1446: UserWarning: KMeans is known to have a memory leak on Windows with MKL, when there are less chunks than available threads. You can avoid it by setting the environment variable OMP_NUM_THREADS=1.\n",
      "  warnings.warn(\n",
      "c:\\Users\\lemin\\miniconda3\\envs\\ai1\\Lib\\site-packages\\sklearn\\cluster\\_kmeans.py:1446: UserWarning: KMeans is known to have a memory leak on Windows with MKL, when there are less chunks than available threads. You can avoid it by setting the environment variable OMP_NUM_THREADS=1.\n",
      "  warnings.warn(\n"
     ]
    },
    {
     "name": "stdout",
     "output_type": "stream",
     "text": [
      "[0.62637363 0.37362637]\n",
      "9\n"
     ]
    },
    {
     "name": "stderr",
     "output_type": "stream",
     "text": [
      "c:\\Users\\lemin\\miniconda3\\envs\\ai1\\Lib\\site-packages\\sklearn\\cluster\\_kmeans.py:1446: UserWarning: KMeans is known to have a memory leak on Windows with MKL, when there are less chunks than available threads. You can avoid it by setting the environment variable OMP_NUM_THREADS=1.\n",
      "  warnings.warn(\n",
      "c:\\Users\\lemin\\miniconda3\\envs\\ai1\\Lib\\site-packages\\sklearn\\cluster\\_kmeans.py:1446: UserWarning: KMeans is known to have a memory leak on Windows with MKL, when there are less chunks than available threads. You can avoid it by setting the environment variable OMP_NUM_THREADS=1.\n",
      "  warnings.warn(\n"
     ]
    },
    {
     "name": "stdout",
     "output_type": "stream",
     "text": [
      "[0.62637363 0.37362637]\n",
      "5\n"
     ]
    },
    {
     "name": "stderr",
     "output_type": "stream",
     "text": [
      "c:\\Users\\lemin\\miniconda3\\envs\\ai1\\Lib\\site-packages\\sklearn\\cluster\\_kmeans.py:1446: UserWarning: KMeans is known to have a memory leak on Windows with MKL, when there are less chunks than available threads. You can avoid it by setting the environment variable OMP_NUM_THREADS=1.\n",
      "  warnings.warn(\n",
      "c:\\Users\\lemin\\miniconda3\\envs\\ai1\\Lib\\site-packages\\sklearn\\cluster\\_kmeans.py:1446: UserWarning: KMeans is known to have a memory leak on Windows with MKL, when there are less chunks than available threads. You can avoid it by setting the environment variable OMP_NUM_THREADS=1.\n",
      "  warnings.warn(\n"
     ]
    },
    {
     "name": "stdout",
     "output_type": "stream",
     "text": [
      "[0.62637363 0.37362637]\n",
      "14\n"
     ]
    },
    {
     "name": "stderr",
     "output_type": "stream",
     "text": [
      "c:\\Users\\lemin\\miniconda3\\envs\\ai1\\Lib\\site-packages\\sklearn\\cluster\\_kmeans.py:1446: UserWarning: KMeans is known to have a memory leak on Windows with MKL, when there are less chunks than available threads. You can avoid it by setting the environment variable OMP_NUM_THREADS=1.\n",
      "  warnings.warn(\n",
      "c:\\Users\\lemin\\miniconda3\\envs\\ai1\\Lib\\site-packages\\sklearn\\cluster\\_kmeans.py:1446: UserWarning: KMeans is known to have a memory leak on Windows with MKL, when there are less chunks than available threads. You can avoid it by setting the environment variable OMP_NUM_THREADS=1.\n",
      "  warnings.warn(\n"
     ]
    },
    {
     "name": "stdout",
     "output_type": "stream",
     "text": [
      "[0.62637363 0.37362637]\n",
      "6\n",
      "Number of Clusters: 8, Cross-Validated Accuracy: 0.810989010989011\n",
      "[0.62637363 0.37362637]\n"
     ]
    },
    {
     "name": "stderr",
     "output_type": "stream",
     "text": [
      "c:\\Users\\lemin\\miniconda3\\envs\\ai1\\Lib\\site-packages\\sklearn\\cluster\\_kmeans.py:1446: UserWarning: KMeans is known to have a memory leak on Windows with MKL, when there are less chunks than available threads. You can avoid it by setting the environment variable OMP_NUM_THREADS=1.\n",
      "  warnings.warn(\n",
      "c:\\Users\\lemin\\miniconda3\\envs\\ai1\\Lib\\site-packages\\sklearn\\cluster\\_kmeans.py:1446: UserWarning: KMeans is known to have a memory leak on Windows with MKL, when there are less chunks than available threads. You can avoid it by setting the environment variable OMP_NUM_THREADS=1.\n",
      "  warnings.warn(\n"
     ]
    },
    {
     "name": "stdout",
     "output_type": "stream",
     "text": [
      "6\n"
     ]
    },
    {
     "name": "stderr",
     "output_type": "stream",
     "text": [
      "c:\\Users\\lemin\\miniconda3\\envs\\ai1\\Lib\\site-packages\\sklearn\\cluster\\_kmeans.py:1446: UserWarning: KMeans is known to have a memory leak on Windows with MKL, when there are less chunks than available threads. You can avoid it by setting the environment variable OMP_NUM_THREADS=1.\n",
      "  warnings.warn(\n",
      "c:\\Users\\lemin\\miniconda3\\envs\\ai1\\Lib\\site-packages\\sklearn\\cluster\\_kmeans.py:1446: UserWarning: KMeans is known to have a memory leak on Windows with MKL, when there are less chunks than available threads. You can avoid it by setting the environment variable OMP_NUM_THREADS=1.\n",
      "  warnings.warn(\n"
     ]
    },
    {
     "name": "stdout",
     "output_type": "stream",
     "text": [
      "[0.62637363 0.37362637]\n",
      "6\n"
     ]
    },
    {
     "name": "stderr",
     "output_type": "stream",
     "text": [
      "c:\\Users\\lemin\\miniconda3\\envs\\ai1\\Lib\\site-packages\\sklearn\\cluster\\_kmeans.py:1446: UserWarning: KMeans is known to have a memory leak on Windows with MKL, when there are less chunks than available threads. You can avoid it by setting the environment variable OMP_NUM_THREADS=1.\n",
      "  warnings.warn(\n",
      "c:\\Users\\lemin\\miniconda3\\envs\\ai1\\Lib\\site-packages\\sklearn\\cluster\\_kmeans.py:1446: UserWarning: KMeans is known to have a memory leak on Windows with MKL, when there are less chunks than available threads. You can avoid it by setting the environment variable OMP_NUM_THREADS=1.\n",
      "  warnings.warn(\n"
     ]
    },
    {
     "name": "stdout",
     "output_type": "stream",
     "text": [
      "[0.62637363 0.37362637]\n",
      "5\n"
     ]
    },
    {
     "name": "stderr",
     "output_type": "stream",
     "text": [
      "c:\\Users\\lemin\\miniconda3\\envs\\ai1\\Lib\\site-packages\\sklearn\\cluster\\_kmeans.py:1446: UserWarning: KMeans is known to have a memory leak on Windows with MKL, when there are less chunks than available threads. You can avoid it by setting the environment variable OMP_NUM_THREADS=1.\n",
      "  warnings.warn(\n",
      "c:\\Users\\lemin\\miniconda3\\envs\\ai1\\Lib\\site-packages\\sklearn\\cluster\\_kmeans.py:1446: UserWarning: KMeans is known to have a memory leak on Windows with MKL, when there are less chunks than available threads. You can avoid it by setting the environment variable OMP_NUM_THREADS=1.\n",
      "  warnings.warn(\n"
     ]
    },
    {
     "name": "stdout",
     "output_type": "stream",
     "text": [
      "[0.62637363 0.37362637]\n",
      "5\n"
     ]
    },
    {
     "name": "stderr",
     "output_type": "stream",
     "text": [
      "c:\\Users\\lemin\\miniconda3\\envs\\ai1\\Lib\\site-packages\\sklearn\\cluster\\_kmeans.py:1446: UserWarning: KMeans is known to have a memory leak on Windows with MKL, when there are less chunks than available threads. You can avoid it by setting the environment variable OMP_NUM_THREADS=1.\n",
      "  warnings.warn(\n",
      "c:\\Users\\lemin\\miniconda3\\envs\\ai1\\Lib\\site-packages\\sklearn\\cluster\\_kmeans.py:1446: UserWarning: KMeans is known to have a memory leak on Windows with MKL, when there are less chunks than available threads. You can avoid it by setting the environment variable OMP_NUM_THREADS=1.\n",
      "  warnings.warn(\n"
     ]
    },
    {
     "name": "stdout",
     "output_type": "stream",
     "text": [
      "[0.62637363 0.37362637]\n",
      "6\n",
      "Number of Clusters: 9, Cross-Validated Accuracy: 0.6373626373626373\n"
     ]
    },
    {
     "name": "stderr",
     "output_type": "stream",
     "text": [
      "c:\\Users\\lemin\\miniconda3\\envs\\ai1\\Lib\\site-packages\\sklearn\\cluster\\_kmeans.py:1446: UserWarning: KMeans is known to have a memory leak on Windows with MKL, when there are less chunks than available threads. You can avoid it by setting the environment variable OMP_NUM_THREADS=1.\n",
      "  warnings.warn(\n",
      "c:\\Users\\lemin\\miniconda3\\envs\\ai1\\Lib\\site-packages\\sklearn\\cluster\\_kmeans.py:1446: UserWarning: KMeans is known to have a memory leak on Windows with MKL, when there are less chunks than available threads. You can avoid it by setting the environment variable OMP_NUM_THREADS=1.\n",
      "  warnings.warn(\n"
     ]
    },
    {
     "name": "stdout",
     "output_type": "stream",
     "text": [
      "[0.62637363 0.37362637]\n",
      "5\n"
     ]
    },
    {
     "name": "stderr",
     "output_type": "stream",
     "text": [
      "c:\\Users\\lemin\\miniconda3\\envs\\ai1\\Lib\\site-packages\\sklearn\\cluster\\_kmeans.py:1446: UserWarning: KMeans is known to have a memory leak on Windows with MKL, when there are less chunks than available threads. You can avoid it by setting the environment variable OMP_NUM_THREADS=1.\n",
      "  warnings.warn(\n",
      "c:\\Users\\lemin\\miniconda3\\envs\\ai1\\Lib\\site-packages\\sklearn\\cluster\\_kmeans.py:1446: UserWarning: KMeans is known to have a memory leak on Windows with MKL, when there are less chunks than available threads. You can avoid it by setting the environment variable OMP_NUM_THREADS=1.\n",
      "  warnings.warn(\n"
     ]
    },
    {
     "name": "stdout",
     "output_type": "stream",
     "text": [
      "[0.62637363 0.37362637]\n",
      "5\n"
     ]
    },
    {
     "name": "stderr",
     "output_type": "stream",
     "text": [
      "c:\\Users\\lemin\\miniconda3\\envs\\ai1\\Lib\\site-packages\\sklearn\\cluster\\_kmeans.py:1446: UserWarning: KMeans is known to have a memory leak on Windows with MKL, when there are less chunks than available threads. You can avoid it by setting the environment variable OMP_NUM_THREADS=1.\n",
      "  warnings.warn(\n",
      "c:\\Users\\lemin\\miniconda3\\envs\\ai1\\Lib\\site-packages\\sklearn\\cluster\\_kmeans.py:1446: UserWarning: KMeans is known to have a memory leak on Windows with MKL, when there are less chunks than available threads. You can avoid it by setting the environment variable OMP_NUM_THREADS=1.\n",
      "  warnings.warn(\n"
     ]
    },
    {
     "name": "stdout",
     "output_type": "stream",
     "text": [
      "[0.62637363 0.37362637]\n",
      "4\n"
     ]
    },
    {
     "name": "stderr",
     "output_type": "stream",
     "text": [
      "c:\\Users\\lemin\\miniconda3\\envs\\ai1\\Lib\\site-packages\\sklearn\\cluster\\_kmeans.py:1446: UserWarning: KMeans is known to have a memory leak on Windows with MKL, when there are less chunks than available threads. You can avoid it by setting the environment variable OMP_NUM_THREADS=1.\n",
      "  warnings.warn(\n",
      "c:\\Users\\lemin\\miniconda3\\envs\\ai1\\Lib\\site-packages\\sklearn\\cluster\\_kmeans.py:1446: UserWarning: KMeans is known to have a memory leak on Windows with MKL, when there are less chunks than available threads. You can avoid it by setting the environment variable OMP_NUM_THREADS=1.\n",
      "  warnings.warn(\n"
     ]
    },
    {
     "name": "stdout",
     "output_type": "stream",
     "text": [
      "[0.62637363 0.37362637]\n",
      "5\n"
     ]
    },
    {
     "name": "stderr",
     "output_type": "stream",
     "text": [
      "c:\\Users\\lemin\\miniconda3\\envs\\ai1\\Lib\\site-packages\\sklearn\\cluster\\_kmeans.py:1446: UserWarning: KMeans is known to have a memory leak on Windows with MKL, when there are less chunks than available threads. You can avoid it by setting the environment variable OMP_NUM_THREADS=1.\n",
      "  warnings.warn(\n",
      "c:\\Users\\lemin\\miniconda3\\envs\\ai1\\Lib\\site-packages\\sklearn\\cluster\\_kmeans.py:1446: UserWarning: KMeans is known to have a memory leak on Windows with MKL, when there are less chunks than available threads. You can avoid it by setting the environment variable OMP_NUM_THREADS=1.\n",
      "  warnings.warn(\n"
     ]
    },
    {
     "name": "stdout",
     "output_type": "stream",
     "text": [
      "[0.62637363 0.37362637]\n",
      "4\n",
      "Number of Clusters: 10, Cross-Validated Accuracy: 0.6373626373626373\n"
     ]
    },
    {
     "data": {
      "image/png": "[encoded data removed]",
      "text/plain": [
       "<Figure size 800x600 with 1 Axes>"
      ]
     },
     "metadata": {},
     "output_type": "display_data"
    }
   ],
   "source": [
    "from sklearn.model_selection import cross_val_score\n",
    "\n",
    "raw_iyer_data = parse_data_from_file_txt('iyer.txt')\n",
    "\n",
    "iyer_data = raw_iyer_data[:, 3:]\n",
    "iyer_labels = raw_iyer_data[:, 1] # labels\n",
    "standardized_iyer_data = (iyer_data - iyer_data.mean(axis=0)) / iyer_data.std(axis=0)\n",
    "labels_data = iyer_labels\n",
    "\n",
    "# raw_breast_cancer_data_df = parse_data_from_file_csv('breast_cancer_data.csv')\n",
    "\n",
    "# bc_data = raw_breast_cancer_data_df.iloc[:, 2:-2].apply(pd.to_numeric, errors='coerce')\n",
    "# bc_labels = raw_breast_cancer_data_df.iloc[:, 1] # labels\n",
    "# standardized_data = (bc_data - bc_data.mean(axis=0)) / bc_data.std(axis=0)\n",
    "# standardized_data = standardized_data.to_numpy()\n",
    "# vectorized_func = np.vectorize(lambda x: 1 if x == 'M' else 0)\n",
    "# labels_data = vectorized_func(bc_labels)\n",
    "\n",
    "# Assuming 'standardized_data' and 'labels_data' are defined\n",
    "X_train, X_test, y_train, y_test = train_test_split(standardized_data, labels_data, test_size=0.2, random_state=12345)\n",
    "max_num_clusters = 10\n",
    "accuracy_arr = []\n",
    "\n",
    "for num_cluster in range(1, max_num_clusters+1):\n",
    "    model = SupervisedGMM(num_clusters=num_cluster)\n",
    "    scores = cross_val_score(model, X_train, y_train, cv=5, scoring='accuracy')  # 5-fold cross-validation\n",
    "    mean_accuracy = np.mean(scores)\n",
    "    accuracy_arr.append(mean_accuracy)\n",
    "    print(f\"Number of Clusters: {num_cluster}, Cross-Validated Accuracy: {mean_accuracy}\")\n",
    "\n",
    "# Plotting the accuracies\n",
    "plt.figure(figsize=(8, 6))\n",
    "plt.plot(np.arange(1, max_num_clusters+1), accuracy_arr, marker='o')\n",
    "plt.title('Cross-Validated Model Accuracy vs Number of Subclasses')\n",
    "plt.xlabel('Number of Subclasses (Clusters)')\n",
    "plt.ylabel('Cross-Validated Accuracy')\n",
    "plt.xticks(np.arange(1, max_num_clusters+1))\n",
    "plt.grid(True)\n",
    "plt.show()"
   ]
  }
 ],
 "metadata": {
  "kernelspec": {
   "display_name": "ai1",
   "language": "python",
   "name": "python3"
  },
  "language_info": {
   "codemirror_mode": {
    "name": "ipython",
    "version": 3
   },
   "file_extension": ".py",
   "mimetype": "text/x-python",
   "name": "python",
   "nbconvert_exporter": "python",
   "pygments_lexer": "ipython3",
   "version": "3.12.1"
  }
 },
 "nbformat": 4,
 "nbformat_minor": 2
}
